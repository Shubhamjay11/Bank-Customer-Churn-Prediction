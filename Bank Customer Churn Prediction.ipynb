{
 "cells": [
  {
   "cell_type": "markdown",
   "metadata": {
    "id": "T6GfyFflFcAw"
   },
   "source": [
    "# Report of process, results and code 📃\n",
    "\n",
    "## Introduction:\n",
    "\n",
    "The goal of this project was to build a predictive model to identify customers who are at risk of churning, using a dataset of customer information including demographic information, customer behavior, and whether or not the customer has churned. The dataset used in this assignment is from the UCI Machine Learning Repository and can be found at the following link: https://www.kaggle.com/competitions/bank-marketing-uci/overview\n",
    "\n",
    "## Process:\n",
    "\n",
    "### Explore the data and Data Cleaning :\n",
    "\n",
    "We have explore the data using various methods such as finding shape,features,columns and many more.The dataset was first examined for any missing values and duplicated rows and it was found that there were a no missing values and duplicate rows in the dataset. \n",
    "\n",
    "### Exploratory Data Analysis and Feature Selection:\n",
    "\n",
    "Exploratory Data Analysis (EDA) was performed on the dataset to understand the distribution of the data, the correlation between different features and also to identify any outliers. The EDA give us that our data is imbalanced with the majority not subscribing a term deposit, we might want to do re-sampling to adjust the proportion while training.Although no NULL is detected, there are many 'unknown' values, which we should deal with when preprocessing.\n",
    "\n",
    "### Model Building:\n",
    "\n",
    "Multiple machine learning algorithms were used to build the predictive model such as Logistic Regression, Random Forest, Gradient Boosting, Ridge Classifier, and Neural Classifie. These algorithms were chosen because they are widely used for classification problems and have proven to be effective in similar situations.\n",
    "\n",
    "### Model Evaluation:\n",
    "\n",
    "The model was trained using a portion of the data and the remaining data was used to evaluate the performance of the model. The evaluation was done using various metrics such as accuracy, precision, recall, F1-score and AUC-ROC. Among all the algorithms, Gradient Boosting was found to be the best algorithm with the highest ROC AUC and MCC value.\n",
    "\n",
    "### Fine-Tuning:\n",
    "\n",
    "The model was fine-tuned by trying different parameters and techniques to improve performance. The final model had a precision of 0.93, recall of 0.96, f1-score of 0.95, and support of 801 for class 0, and precision of 0.60, recall of 0.47, f1-score of 0.53, and support of 104 for class 1.\n",
    "\n",
    "## Limitations and Possible Future Work:\n",
    "\n",
    "One of the limitations of this model is that it is based on a single dataset and may not generalize well to other datasets. In order to overcome this limitation, it would be beneficial to test the model on a larger and more diverse dataset. Additionally, other machine learning algorithms and techniques such as deep learning could be explored to improve the performance of the model.\n",
    "\n",
    "## Result :\n",
    "\n",
    "We have trained and evaluated several algorithms including Gradient Boosting, Random Forest, Logistic Regression, Ridge Classifier, and Neural Classifier. We used various evaluation metrics such as ROC AUC, MCC score, precision, recall, f1-score, and support to evaluate the performance of these algorithms.\n",
    "\n",
    "The results of our analysis showed that Gradient Boosting performed the best among all the algorithms, with the highest ROC AUC and MCC score of 0.481. The results of other algorithms are:\n",
    "\n",
    "Random Forest: MCC score of 0.460\n",
    "Logistic Regression: MCC score of 0.437\n",
    "Ridge Classifier: MCC score of 0.426\n",
    "Neural Classifier: MCC score of 0.372\n",
    "\n",
    "In conclusion, our analysis showed that Gradient Boosting is the best algorithm for classifying the data in this dataset. However, it is worth noting that the results may vary depending on the specific dataset and problem. Therefore, it is always important to evaluate multiple algorithms and select the one that performs the best for a specific problem."
   ]
  },
  {
   "cell_type": "markdown",
   "metadata": {
    "id": "gN0U4OThNa5p"
   },
   "source": [
    "# **CODE** 💻"
   ]
  },
  {
   "cell_type": "markdown",
   "metadata": {
    "id": "hK5JOWvMtLuX"
   },
   "source": [
    "##  libraries "
   ]
  },
  {
   "cell_type": "code",
   "execution_count": 5,
   "metadata": {
    "id": "fhV5uf-xtLuY"
   },
   "outputs": [],
   "source": [
    "from calendar import month_abbr\n",
    "import numpy as np\n",
    "import pandas as pd\n",
    "import matplotlib.pyplot as plt\n",
    "import seaborn as sns\n",
    "%matplotlib inline"
   ]
  },
  {
   "cell_type": "code",
   "execution_count": 6,
   "metadata": {
    "id": "yPmZPQ48tLua"
   },
   "outputs": [],
   "source": [
    "# sampling\n",
    "from sklearn.model_selection import train_test_split, cross_val_score\n",
    "from imblearn.over_sampling import SMOTE\n",
    "# preprocessing\n",
    "from sklearn.preprocessing import MinMaxScaler\n",
    "# cross validation\n",
    "from sklearn.model_selection import GridSearchCV\n",
    "# modeling\n",
    "from sklearn.linear_model import LogisticRegression\n",
    "from sklearn.linear_model import RidgeClassifier\n",
    "from sklearn.ensemble import RandomForestClassifier\n",
    "from sklearn.ensemble import GradientBoostingClassifier\n",
    "from sklearn.neural_network import MLPClassifier\n",
    "# model evaluation\n",
    "from sklearn.metrics import matthews_corrcoef, make_scorer\n",
    "from sklearn.metrics import classification_report, plot_roc_curve"
   ]
  },
  {
   "cell_type": "markdown",
   "metadata": {
    "id": "hqJsZIAktLua"
   },
   "source": [
    "## Data Import"
   ]
  },
  {
   "cell_type": "code",
   "execution_count": 7,
   "metadata": {
    "id": "IoyWW58jtLub"
   },
   "outputs": [],
   "source": [
    "df = pd.read_csv('/content/bank.csv',sep=';')"
   ]
  },
  {
   "cell_type": "markdown",
   "metadata": {
    "id": "Ci-PB1Cy0eZ7"
   },
   "source": []
  },
  {
   "cell_type": "code",
   "execution_count": 8,
   "metadata": {
    "colab": {
     "base_uri": "https://localhost:8080/",
     "height": 206
    },
    "id": "UIZlBfCTtLub",
    "outputId": "8beb6113-8ba6-4b3d-b990-d8299ad6ef6e"
   },
   "outputs": [
    {
     "data": {
      "text/html": [
       "\n",
       "  <div id=\"df-54426df5-ec4c-44bc-af32-2d4cf4ce1bd0\">\n",
       "    <div class=\"colab-df-container\">\n",
       "      <div>\n",
       "<style scoped>\n",
       "    .dataframe tbody tr th:only-of-type {\n",
       "        vertical-align: middle;\n",
       "    }\n",
       "\n",
       "    .dataframe tbody tr th {\n",
       "        vertical-align: top;\n",
       "    }\n",
       "\n",
       "    .dataframe thead th {\n",
       "        text-align: right;\n",
       "    }\n",
       "</style>\n",
       "<table border=\"1\" class=\"dataframe\">\n",
       "  <thead>\n",
       "    <tr style=\"text-align: right;\">\n",
       "      <th></th>\n",
       "      <th>age</th>\n",
       "      <th>job</th>\n",
       "      <th>marital</th>\n",
       "      <th>education</th>\n",
       "      <th>default</th>\n",
       "      <th>balance</th>\n",
       "      <th>housing</th>\n",
       "      <th>loan</th>\n",
       "      <th>contact</th>\n",
       "      <th>day</th>\n",
       "      <th>month</th>\n",
       "      <th>duration</th>\n",
       "      <th>campaign</th>\n",
       "      <th>pdays</th>\n",
       "      <th>previous</th>\n",
       "      <th>poutcome</th>\n",
       "      <th>y</th>\n",
       "    </tr>\n",
       "  </thead>\n",
       "  <tbody>\n",
       "    <tr>\n",
       "      <th>0</th>\n",
       "      <td>30</td>\n",
       "      <td>unemployed</td>\n",
       "      <td>married</td>\n",
       "      <td>primary</td>\n",
       "      <td>no</td>\n",
       "      <td>1787</td>\n",
       "      <td>no</td>\n",
       "      <td>no</td>\n",
       "      <td>cellular</td>\n",
       "      <td>19</td>\n",
       "      <td>oct</td>\n",
       "      <td>79</td>\n",
       "      <td>1</td>\n",
       "      <td>-1</td>\n",
       "      <td>0</td>\n",
       "      <td>unknown</td>\n",
       "      <td>no</td>\n",
       "    </tr>\n",
       "    <tr>\n",
       "      <th>1</th>\n",
       "      <td>33</td>\n",
       "      <td>services</td>\n",
       "      <td>married</td>\n",
       "      <td>secondary</td>\n",
       "      <td>no</td>\n",
       "      <td>4789</td>\n",
       "      <td>yes</td>\n",
       "      <td>yes</td>\n",
       "      <td>cellular</td>\n",
       "      <td>11</td>\n",
       "      <td>may</td>\n",
       "      <td>220</td>\n",
       "      <td>1</td>\n",
       "      <td>339</td>\n",
       "      <td>4</td>\n",
       "      <td>failure</td>\n",
       "      <td>no</td>\n",
       "    </tr>\n",
       "    <tr>\n",
       "      <th>2</th>\n",
       "      <td>35</td>\n",
       "      <td>management</td>\n",
       "      <td>single</td>\n",
       "      <td>tertiary</td>\n",
       "      <td>no</td>\n",
       "      <td>1350</td>\n",
       "      <td>yes</td>\n",
       "      <td>no</td>\n",
       "      <td>cellular</td>\n",
       "      <td>16</td>\n",
       "      <td>apr</td>\n",
       "      <td>185</td>\n",
       "      <td>1</td>\n",
       "      <td>330</td>\n",
       "      <td>1</td>\n",
       "      <td>failure</td>\n",
       "      <td>no</td>\n",
       "    </tr>\n",
       "    <tr>\n",
       "      <th>3</th>\n",
       "      <td>30</td>\n",
       "      <td>management</td>\n",
       "      <td>married</td>\n",
       "      <td>tertiary</td>\n",
       "      <td>no</td>\n",
       "      <td>1476</td>\n",
       "      <td>yes</td>\n",
       "      <td>yes</td>\n",
       "      <td>unknown</td>\n",
       "      <td>3</td>\n",
       "      <td>jun</td>\n",
       "      <td>199</td>\n",
       "      <td>4</td>\n",
       "      <td>-1</td>\n",
       "      <td>0</td>\n",
       "      <td>unknown</td>\n",
       "      <td>no</td>\n",
       "    </tr>\n",
       "    <tr>\n",
       "      <th>4</th>\n",
       "      <td>59</td>\n",
       "      <td>blue-collar</td>\n",
       "      <td>married</td>\n",
       "      <td>secondary</td>\n",
       "      <td>no</td>\n",
       "      <td>0</td>\n",
       "      <td>yes</td>\n",
       "      <td>no</td>\n",
       "      <td>unknown</td>\n",
       "      <td>5</td>\n",
       "      <td>may</td>\n",
       "      <td>226</td>\n",
       "      <td>1</td>\n",
       "      <td>-1</td>\n",
       "      <td>0</td>\n",
       "      <td>unknown</td>\n",
       "      <td>no</td>\n",
       "    </tr>\n",
       "  </tbody>\n",
       "</table>\n",
       "</div>\n",
       "      <button class=\"colab-df-convert\" onclick=\"convertToInteractive('df-54426df5-ec4c-44bc-af32-2d4cf4ce1bd0')\"\n",
       "              title=\"Convert this dataframe to an interactive table.\"\n",
       "              style=\"display:none;\">\n",
       "        \n",
       "  <svg xmlns=\"http://www.w3.org/2000/svg\" height=\"24px\"viewBox=\"0 0 24 24\"\n",
       "       width=\"24px\">\n",
       "    <path d=\"M0 0h24v24H0V0z\" fill=\"none\"/>\n",
       "    <path d=\"M18.56 5.44l.94 2.06.94-2.06 2.06-.94-2.06-.94-.94-2.06-.94 2.06-2.06.94zm-11 1L8.5 8.5l.94-2.06 2.06-.94-2.06-.94L8.5 2.5l-.94 2.06-2.06.94zm10 10l.94 2.06.94-2.06 2.06-.94-2.06-.94-.94-2.06-.94 2.06-2.06.94z\"/><path d=\"M17.41 7.96l-1.37-1.37c-.4-.4-.92-.59-1.43-.59-.52 0-1.04.2-1.43.59L10.3 9.45l-7.72 7.72c-.78.78-.78 2.05 0 2.83L4 21.41c.39.39.9.59 1.41.59.51 0 1.02-.2 1.41-.59l7.78-7.78 2.81-2.81c.8-.78.8-2.07 0-2.86zM5.41 20L4 18.59l7.72-7.72 1.47 1.35L5.41 20z\"/>\n",
       "  </svg>\n",
       "      </button>\n",
       "      \n",
       "  <style>\n",
       "    .colab-df-container {\n",
       "      display:flex;\n",
       "      flex-wrap:wrap;\n",
       "      gap: 12px;\n",
       "    }\n",
       "\n",
       "    .colab-df-convert {\n",
       "      background-color: #E8F0FE;\n",
       "      border: none;\n",
       "      border-radius: 50%;\n",
       "      cursor: pointer;\n",
       "      display: none;\n",
       "      fill: #1967D2;\n",
       "      height: 32px;\n",
       "      padding: 0 0 0 0;\n",
       "      width: 32px;\n",
       "    }\n",
       "\n",
       "    .colab-df-convert:hover {\n",
       "      background-color: #E2EBFA;\n",
       "      box-shadow: 0px 1px 2px rgba(60, 64, 67, 0.3), 0px 1px 3px 1px rgba(60, 64, 67, 0.15);\n",
       "      fill: #174EA6;\n",
       "    }\n",
       "\n",
       "    [theme=dark] .colab-df-convert {\n",
       "      background-color: #3B4455;\n",
       "      fill: #D2E3FC;\n",
       "    }\n",
       "\n",
       "    [theme=dark] .colab-df-convert:hover {\n",
       "      background-color: #434B5C;\n",
       "      box-shadow: 0px 1px 3px 1px rgba(0, 0, 0, 0.15);\n",
       "      filter: drop-shadow(0px 1px 2px rgba(0, 0, 0, 0.3));\n",
       "      fill: #FFFFFF;\n",
       "    }\n",
       "  </style>\n",
       "\n",
       "      <script>\n",
       "        const buttonEl =\n",
       "          document.querySelector('#df-54426df5-ec4c-44bc-af32-2d4cf4ce1bd0 button.colab-df-convert');\n",
       "        buttonEl.style.display =\n",
       "          google.colab.kernel.accessAllowed ? 'block' : 'none';\n",
       "\n",
       "        async function convertToInteractive(key) {\n",
       "          const element = document.querySelector('#df-54426df5-ec4c-44bc-af32-2d4cf4ce1bd0');\n",
       "          const dataTable =\n",
       "            await google.colab.kernel.invokeFunction('convertToInteractive',\n",
       "                                                     [key], {});\n",
       "          if (!dataTable) return;\n",
       "\n",
       "          const docLinkHtml = 'Like what you see? Visit the ' +\n",
       "            '<a target=\"_blank\" href=https://colab.research.google.com/notebooks/data_table.ipynb>data table notebook</a>'\n",
       "            + ' to learn more about interactive tables.';\n",
       "          element.innerHTML = '';\n",
       "          dataTable['output_type'] = 'display_data';\n",
       "          await google.colab.output.renderOutput(dataTable, element);\n",
       "          const docLink = document.createElement('div');\n",
       "          docLink.innerHTML = docLinkHtml;\n",
       "          element.appendChild(docLink);\n",
       "        }\n",
       "      </script>\n",
       "    </div>\n",
       "  </div>\n",
       "  "
      ],
      "text/plain": [
       "   age          job  marital  education default  balance housing loan  \\\n",
       "0   30   unemployed  married    primary      no     1787      no   no   \n",
       "1   33     services  married  secondary      no     4789     yes  yes   \n",
       "2   35   management   single   tertiary      no     1350     yes   no   \n",
       "3   30   management  married   tertiary      no     1476     yes  yes   \n",
       "4   59  blue-collar  married  secondary      no        0     yes   no   \n",
       "\n",
       "    contact  day month  duration  campaign  pdays  previous poutcome   y  \n",
       "0  cellular   19   oct        79         1     -1         0  unknown  no  \n",
       "1  cellular   11   may       220         1    339         4  failure  no  \n",
       "2  cellular   16   apr       185         1    330         1  failure  no  \n",
       "3   unknown    3   jun       199         4     -1         0  unknown  no  \n",
       "4   unknown    5   may       226         1     -1         0  unknown  no  "
      ]
     },
     "execution_count": 8,
     "metadata": {},
     "output_type": "execute_result"
    }
   ],
   "source": [
    "df.head(5)"
   ]
  },
  {
   "cell_type": "code",
   "execution_count": 9,
   "metadata": {
    "colab": {
     "base_uri": "https://localhost:8080/"
    },
    "id": "Kcdvx3iWtLuc",
    "outputId": "40659a50-c9f4-400c-e0b8-91b2585fa179"
   },
   "outputs": [
    {
     "data": {
      "text/plain": [
       "(4521, 17)"
      ]
     },
     "execution_count": 9,
     "metadata": {},
     "output_type": "execute_result"
    }
   ],
   "source": [
    "# Number of samples & features\n",
    "df.shape"
   ]
  },
  {
   "cell_type": "code",
   "execution_count": 10,
   "metadata": {
    "colab": {
     "base_uri": "https://localhost:8080/"
    },
    "id": "bjLn742vvnah",
    "outputId": "2b332a7c-0e24-44bc-97f3-9c791e193fc3"
   },
   "outputs": [
    {
     "name": "stdout",
     "output_type": "stream",
     "text": [
      "<class 'pandas.core.frame.DataFrame'>\n",
      "RangeIndex: 4521 entries, 0 to 4520\n",
      "Data columns (total 17 columns):\n",
      " #   Column     Non-Null Count  Dtype \n",
      "---  ------     --------------  ----- \n",
      " 0   age        4521 non-null   int64 \n",
      " 1   job        4521 non-null   object\n",
      " 2   marital    4521 non-null   object\n",
      " 3   education  4521 non-null   object\n",
      " 4   default    4521 non-null   object\n",
      " 5   balance    4521 non-null   int64 \n",
      " 6   housing    4521 non-null   object\n",
      " 7   loan       4521 non-null   object\n",
      " 8   contact    4521 non-null   object\n",
      " 9   day        4521 non-null   int64 \n",
      " 10  month      4521 non-null   object\n",
      " 11  duration   4521 non-null   int64 \n",
      " 12  campaign   4521 non-null   int64 \n",
      " 13  pdays      4521 non-null   int64 \n",
      " 14  previous   4521 non-null   int64 \n",
      " 15  poutcome   4521 non-null   object\n",
      " 16  y          4521 non-null   object\n",
      "dtypes: int64(7), object(10)\n",
      "memory usage: 600.6+ KB\n"
     ]
    }
   ],
   "source": [
    "df.info()\n"
   ]
  },
  {
   "cell_type": "code",
   "execution_count": 11,
   "metadata": {
    "colab": {
     "base_uri": "https://localhost:8080/"
    },
    "id": "falJ9ToduCxC",
    "outputId": "33db81ab-ae05-4475-9648-04e384add241"
   },
   "outputs": [
    {
     "name": "stdout",
     "output_type": "stream",
     "text": [
      "\n",
      "Features: ['age', 'job', 'marital', 'education', 'default', 'balance', 'housing', 'loan', 'contact', 'day', 'month', 'duration', 'campaign', 'pdays', 'previous', 'poutcome', 'y']\n"
     ]
    }
   ],
   "source": [
    "print(\"\\nFeatures:\", df.columns.tolist())"
   ]
  },
  {
   "cell_type": "code",
   "execution_count": 12,
   "metadata": {
    "colab": {
     "base_uri": "https://localhost:8080/"
    },
    "id": "X_froA48u2pj",
    "outputId": "196362f0-3b96-4cee-d61a-6bcf3a517f9a"
   },
   "outputs": [
    {
     "name": "stdout",
     "output_type": "stream",
     "text": [
      "Number of duplicate rows:  0\n"
     ]
    }
   ],
   "source": [
    "duplicate_rows = df[df.duplicated()]\n",
    "print(\"Number of duplicate rows: \", duplicate_rows.shape[0])\n"
   ]
  },
  {
   "cell_type": "code",
   "execution_count": 13,
   "metadata": {
    "colab": {
     "base_uri": "https://localhost:8080/"
    },
    "id": "OgRjROq1uva-",
    "outputId": "05d2a763-623d-4c88-b6ca-596f0982520c"
   },
   "outputs": [
    {
     "name": "stdout",
     "output_type": "stream",
     "text": [
      "\n",
      "Unique values: age            67\n",
      "job            12\n",
      "marital         3\n",
      "education       4\n",
      "default         2\n",
      "balance      2353\n",
      "housing         2\n",
      "loan            2\n",
      "contact         3\n",
      "day            31\n",
      "month          12\n",
      "duration      875\n",
      "campaign       32\n",
      "pdays         292\n",
      "previous       24\n",
      "poutcome        4\n",
      "y               2\n",
      "dtype: int64\n"
     ]
    }
   ],
   "source": [
    "print(\"\\nUnique values:\", df.nunique())"
   ]
  },
  {
   "cell_type": "code",
   "execution_count": 14,
   "metadata": {
    "colab": {
     "base_uri": "https://localhost:8080/"
    },
    "id": "mPAvmJJ1tLue",
    "outputId": "42fb627f-b689-4a2d-f412-23e5a64059d4",
    "scrolled": true
   },
   "outputs": [
    {
     "name": "stdout",
     "output_type": "stream",
     "text": [
      "Any null value in the data:  False\n"
     ]
    }
   ],
   "source": [
    "# Check if there are null values\n",
    "print(\"Any null value in the data: \",df.isnull().any().any())\n"
   ]
  },
  {
   "cell_type": "code",
   "execution_count": 15,
   "metadata": {
    "id": "s0759rZatLud"
   },
   "outputs": [],
   "source": [
    "nume_inputs = ['age', 'balance', 'duration', 'day', 'campaign', 'pdays', 'previous']\n",
    "cate_inputs = ['job', 'marital', 'education', 'default', 'housing', 'loan', 'contact', 'month', 'poutcome']\n",
    "outputs = 'y'"
   ]
  },
  {
   "cell_type": "code",
   "execution_count": 16,
   "metadata": {
    "colab": {
     "base_uri": "https://localhost:8080/"
    },
    "id": "zAdO1TT8z93k",
    "outputId": "fbb3974f-e713-427b-cf8b-bc58f447c6cc"
   },
   "outputs": [
    {
     "name": "stdout",
     "output_type": "stream",
     "text": [
      "0       no\n",
      "1       no\n",
      "2       no\n",
      "3       no\n",
      "4       no\n",
      "        ..\n",
      "4516    no\n",
      "4517    no\n",
      "4518    no\n",
      "4519    no\n",
      "4520    no\n",
      "Name: y, Length: 4521, dtype: object\n"
     ]
    }
   ],
   "source": [
    "print(df['y'])"
   ]
  },
  {
   "cell_type": "markdown",
   "metadata": {
    "id": "oDmJSjjRtLue"
   },
   "source": [
    "## Exploratory Data Analysis"
   ]
  },
  {
   "cell_type": "markdown",
   "metadata": {
    "id": "qNNfnCeftLue"
   },
   "source": [
    "### 2.1 Imbalance of data\n",
    "- Given our data is imbalanced with the majority not subscribing a term deposit, we might want to do re-sampling to adjust the proportion while training"
   ]
  },
  {
   "cell_type": "code",
   "execution_count": 17,
   "metadata": {
    "colab": {
     "base_uri": "https://localhost:8080/",
     "height": 297
    },
    "id": "CsB3jQcs1i24",
    "outputId": "2efd386a-6b8b-44f1-b6f2-fa52e8a38096"
   },
   "outputs": [
    {
     "data": {
      "image/png": "[encoded data removed]",
      "text/plain": [
       "<Figure size 576x288 with 1 Axes>"
      ]
     },
     "metadata": {
      "needs_background": "light"
     },
     "output_type": "display_data"
    }
   ],
   "source": [
    "fig, ax = plt.subplots(figsize=(8, 4))\n",
    "sns.countplot(x=df['y'], ax=ax)\n",
    "\n",
    "plt.xticks(rotation=90, fontsize=12)\n",
    "plt.xlabel('Target (Y)', fontsize=12)\n",
    "plt.tight_layout()\n"
   ]
  },
  {
   "cell_type": "code",
   "execution_count": 18,
   "metadata": {
    "id": "AZZHwA1H2Izx"
   },
   "outputs": [],
   "source": [
    "df['y'].replace({'no': 0, 'yes': 1}, inplace=True);"
   ]
  },
  {
   "cell_type": "code",
   "execution_count": 19,
   "metadata": {
    "colab": {
     "base_uri": "https://localhost:8080/"
    },
    "id": "tM3Y3_dr1gT6",
    "outputId": "7425d60a-fb96-420f-b6a7-c44d33ff6f66"
   },
   "outputs": [
    {
     "data": {
      "text/plain": [
       "4516    0\n",
       "4517    0\n",
       "4518    0\n",
       "4519    0\n",
       "4520    0\n",
       "Name: y, dtype: int64"
      ]
     },
     "execution_count": 19,
     "metadata": {},
     "output_type": "execute_result"
    }
   ],
   "source": [
    "df['y'].tail()"
   ]
  },
  {
   "cell_type": "markdown",
   "metadata": {
    "id": "X2y8IlAytLuf"
   },
   "source": [
    "### 2.2 Examining categorical features"
   ]
  },
  {
   "cell_type": "markdown",
   "metadata": {
    "id": "el1EW5HXtLuf"
   },
   "source": [
    "#### a) Unique values\n",
    "- There're some binary variables such as 'default', 'housing', 'loan'. We might want to transform it for better predicting\n",
    "- Although no NULL is detected, there are many 'unknown' values, which we should deal with when preprocessing\n",
    "- There are a large percentage of unknown previous outcomes, which is not surprising because many customers don't have previous contacts (previous=0)."
   ]
  },
  {
   "cell_type": "code",
   "execution_count": 20,
   "metadata": {
    "colab": {
     "base_uri": "https://localhost:8080/"
    },
    "id": "rgLb80wLtLuf",
    "outputId": "fa5bf9f7-4c87-42fc-ea53-858fea3c27dd"
   },
   "outputs": [
    {
     "name": "stdout",
     "output_type": "stream",
     "text": [
      "Unique \"job\":\n",
      " ['unemployed' 'services' 'management' 'blue-collar' 'self-employed'\n",
      " 'technician' 'entrepreneur' 'admin.' 'student' 'housemaid' 'retired'\n",
      " 'unknown']\n",
      "Unique \"marital\":\n",
      " ['married' 'single' 'divorced']\n",
      "Unique \"education\":\n",
      " ['primary' 'secondary' 'tertiary' 'unknown']\n",
      "Unique \"default\":\n",
      " ['no' 'yes']\n",
      "Unique \"housing\":\n",
      " ['no' 'yes']\n",
      "Unique \"loan\":\n",
      " ['no' 'yes']\n",
      "Unique \"contact\":\n",
      " ['cellular' 'unknown' 'telephone']\n",
      "Unique \"month\":\n",
      " ['oct' 'may' 'apr' 'jun' 'feb' 'aug' 'jan' 'jul' 'nov' 'sep' 'mar' 'dec']\n",
      "Unique \"poutcome\":\n",
      " ['unknown' 'failure' 'other' 'success']\n"
     ]
    }
   ],
   "source": [
    "for col in cate_inputs:\n",
    "    print('Unique \"{}\":\\n {}'.format(col, df[col].unique()))"
   ]
  },
  {
   "cell_type": "code",
   "execution_count": 21,
   "metadata": {
    "colab": {
     "base_uri": "https://localhost:8080/"
    },
    "id": "cQyFlN5DtLug",
    "outputId": "65f2bed1-ed67-4163-948a-12dca29991d5"
   },
   "outputs": [
    {
     "name": "stdout",
     "output_type": "stream",
     "text": [
      "Unknown in column \"job\": 0.8%\n",
      "Unknown in column \"education\": 4.1%\n",
      "Unknown in column \"contact\": 29.3%\n",
      "Unknown in column \"poutcome\": 82.0%\n"
     ]
    }
   ],
   "source": [
    "# The proportion of unknown value in each column\n",
    "col_unknwn = ['job', 'education', 'contact', 'poutcome']\n",
    "for col in col_unknwn:\n",
    "    proportion = df[df[col]=='unknown'][col].count()/df[col].count()\n",
    "    print('Unknown in column \\\"{}\\\": {:.1%}'.format(col, proportion))"
   ]
  },
  {
   "cell_type": "markdown",
   "metadata": {
    "id": "9j5BsHFFtLug"
   },
   "source": [
    "#### b) Job\n",
    "- The average 'y' for each job are all < 0.3\n",
    "- Retired clients and students are more likely to subscribe among all the jobs"
   ]
  },
  {
   "cell_type": "code",
   "execution_count": 22,
   "metadata": {
    "colab": {
     "base_uri": "https://localhost:8080/",
     "height": 343
    },
    "id": "CE_vI28htLug",
    "outputId": "c6d2ce19-0f1a-4bc6-d567-44693c15f3cf"
   },
   "outputs": [
    {
     "data": {
      "text/plain": [
       "<matplotlib.axes._subplots.AxesSubplot at 0x7fbf4b6f25e0>"
      ]
     },
     "execution_count": 22,
     "metadata": {},
     "output_type": "execute_result"
    },
    {
     "data": {
      "image/png": "[encoded data removed]",
      "text/plain": [
       "<Figure size 432x288 with 1 Axes>"
      ]
     },
     "metadata": {
      "needs_background": "light"
     },
     "output_type": "display_data"
    }
   ],
   "source": [
    "df.groupby('job').mean()['y'].plot.bar(rot=45)"
   ]
  },
  {
   "cell_type": "markdown",
   "metadata": {
    "id": "knS5NDLRtLug"
   },
   "source": [
    "#### c) Martial\n",
    "- Single clients are a little bit more likely to subscribe\n",
    "- Married clients have the lowest subscribing rate"
   ]
  },
  {
   "cell_type": "code",
   "execution_count": 23,
   "metadata": {
    "colab": {
     "base_uri": "https://localhost:8080/",
     "height": 324
    },
    "id": "YUbnjrvStLug",
    "outputId": "264c3248-b019-4022-b2a0-ec6855616c6e"
   },
   "outputs": [
    {
     "data": {
      "text/plain": [
       "<matplotlib.axes._subplots.AxesSubplot at 0x7fbf4b674d90>"
      ]
     },
     "execution_count": 23,
     "metadata": {},
     "output_type": "execute_result"
    },
    {
     "data": {
      "image/png": "[encoded data removed]",
      "text/plain": [
       "<Figure size 432x288 with 1 Axes>"
      ]
     },
     "metadata": {
      "needs_background": "light"
     },
     "output_type": "display_data"
    }
   ],
   "source": [
    "df.groupby('marital').mean()['y'].plot.bar(rot=45)"
   ]
  },
  {
   "cell_type": "markdown",
   "metadata": {
    "id": "nXc2MCeRtLuh"
   },
   "source": [
    "#### d) Education\n",
    "- Clients with higher education level are more likely to subscribe."
   ]
  },
  {
   "cell_type": "code",
   "execution_count": 24,
   "metadata": {
    "colab": {
     "base_uri": "https://localhost:8080/",
     "height": 330
    },
    "id": "KDhEjDIytLuh",
    "outputId": "d295b519-f4bc-496f-e4ae-ec5edc1812e3"
   },
   "outputs": [
    {
     "data": {
      "text/plain": [
       "<matplotlib.axes._subplots.AxesSubplot at 0x7fbf4b65ff10>"
      ]
     },
     "execution_count": 24,
     "metadata": {},
     "output_type": "execute_result"
    },
    {
     "data": {
      "image/png": "[encoded data removed]",
      "text/plain": [
       "<Figure size 432x288 with 1 Axes>"
      ]
     },
     "metadata": {
      "needs_background": "light"
     },
     "output_type": "display_data"
    }
   ],
   "source": [
    "df.groupby('education').mean()['y'].plot.bar(rot=45)"
   ]
  },
  {
   "cell_type": "markdown",
   "metadata": {
    "id": "n8Nlf36NtLuh"
   },
   "source": [
    "#### e) Default\n",
    "- Clients who have credit in default are less likely to subscribe"
   ]
  },
  {
   "cell_type": "code",
   "execution_count": 25,
   "metadata": {
    "colab": {
     "base_uri": "https://localhost:8080/",
     "height": 306
    },
    "id": "-zmldxVDtLuh",
    "outputId": "ea3a8c41-8001-4f7c-e691-da148703ba14"
   },
   "outputs": [
    {
     "data": {
      "text/plain": [
       "<matplotlib.axes._subplots.AxesSubplot at 0x7fbf4b5c7340>"
      ]
     },
     "execution_count": 25,
     "metadata": {},
     "output_type": "execute_result"
    },
    {
     "data": {
      "image/png": "[encoded data removed]",
      "text/plain": [
       "<Figure size 432x288 with 1 Axes>"
      ]
     },
     "metadata": {
      "needs_background": "light"
     },
     "output_type": "display_data"
    }
   ],
   "source": [
    "df.groupby('default').mean()['y'].plot.bar(rot=45)"
   ]
  },
  {
   "cell_type": "markdown",
   "metadata": {
    "id": "fZApNVJitLui"
   },
   "source": [
    "#### f) Housing\n",
    "- Clients with housing loan are less likely to subscribe a term deposit"
   ]
  },
  {
   "cell_type": "code",
   "execution_count": 26,
   "metadata": {
    "colab": {
     "base_uri": "https://localhost:8080/",
     "height": 308
    },
    "id": "dz5pNsVOtLui",
    "outputId": "287b8ae1-6aa8-402f-b451-66324e49d925"
   },
   "outputs": [
    {
     "data": {
      "text/plain": [
       "<matplotlib.axes._subplots.AxesSubplot at 0x7fbf4b594940>"
      ]
     },
     "execution_count": 26,
     "metadata": {},
     "output_type": "execute_result"
    },
    {
     "data": {
      "image/png": "[encoded data removed]",
      "text/plain": [
       "<Figure size 432x288 with 1 Axes>"
      ]
     },
     "metadata": {
      "needs_background": "light"
     },
     "output_type": "display_data"
    }
   ],
   "source": [
    "df.groupby('housing').mean()['y'].plot.bar(rot=45)"
   ]
  },
  {
   "cell_type": "markdown",
   "metadata": {
    "id": "9erudXOmtLui"
   },
   "source": [
    "#### g) Loan\n",
    "- Clients with personal loan are less likely to subscribe"
   ]
  },
  {
   "cell_type": "code",
   "execution_count": 27,
   "metadata": {
    "colab": {
     "base_uri": "https://localhost:8080/",
     "height": 306
    },
    "id": "Wt0BqPgktLui",
    "outputId": "95e284e7-941f-418c-8bc9-b2ae41d0fbff"
   },
   "outputs": [
    {
     "data": {
      "text/plain": [
       "<matplotlib.axes._subplots.AxesSubplot at 0x7fbf4b4fab80>"
      ]
     },
     "execution_count": 27,
     "metadata": {},
     "output_type": "execute_result"
    },
    {
     "data": {
      "image/png": "[encoded data removed]",
      "text/plain": [
       "<Figure size 432x288 with 1 Axes>"
      ]
     },
     "metadata": {
      "needs_background": "light"
     },
     "output_type": "display_data"
    }
   ],
   "source": [
    "df.groupby('loan').mean()['y'].plot.bar(rot=45)"
   ]
  },
  {
   "cell_type": "markdown",
   "metadata": {
    "id": "F9A7nsSmtLui"
   },
   "source": [
    "#### h) Contact\n",
    "- The cellular and telephone contact have similar subscribing probability, but the prob of unknown is significantly lower"
   ]
  },
  {
   "cell_type": "code",
   "execution_count": 28,
   "metadata": {
    "colab": {
     "base_uri": "https://localhost:8080/",
     "height": 329
    },
    "id": "AKUFmZpQtLui",
    "outputId": "3a67d0dd-aeb2-41b6-b20c-cc3425548ec5"
   },
   "outputs": [
    {
     "data": {
      "text/plain": [
       "<matplotlib.axes._subplots.AxesSubplot at 0x7fbf4b4cbe80>"
      ]
     },
     "execution_count": 28,
     "metadata": {},
     "output_type": "execute_result"
    },
    {
     "data": {
      "image/png": "[encoded data removed]",
      "text/plain": [
       "<Figure size 432x288 with 1 Axes>"
      ]
     },
     "metadata": {
      "needs_background": "light"
     },
     "output_type": "display_data"
    }
   ],
   "source": [
    "df.groupby('contact').mean()['y'].plot.bar(rot=45)"
   ]
  },
  {
   "cell_type": "markdown",
   "metadata": {
    "id": "PK7a6GIxtLuj"
   },
   "source": [
    "### 2.3 Looking into numerical features"
   ]
  },
  {
   "cell_type": "markdown",
   "metadata": {
    "id": "OZSyzysdtLuj"
   },
   "source": [
    "#### a) Age\n",
    "- Majority (that's say 97pp or more) is <= 60\n",
    "- Among those with age <= 60, the younger the clients are, the more likely that they are to subscribe"
   ]
  },
  {
   "cell_type": "code",
   "execution_count": 29,
   "metadata": {
    "colab": {
     "base_uri": "https://localhost:8080/",
     "height": 296
    },
    "id": "Z26p5Ia9tLuj",
    "outputId": "b31dd25b-369c-42d5-d9f0-f0bc7ee95bbe"
   },
   "outputs": [
    {
     "data": {
      "text/plain": [
       "<matplotlib.axes._subplots.AxesSubplot at 0x7fbf4b47aeb0>"
      ]
     },
     "execution_count": 29,
     "metadata": {},
     "output_type": "execute_result"
    },
    {
     "data": {
      "image/png": "[encoded data removed]",
      "text/plain": [
       "<Figure size 432x288 with 1 Axes>"
      ]
     },
     "metadata": {
      "needs_background": "light"
     },
     "output_type": "display_data"
    }
   ],
   "source": [
    "sns.histplot(df['age'], bins=len(df['age'].unique()), kde=True)"
   ]
  },
  {
   "cell_type": "code",
   "execution_count": 30,
   "metadata": {
    "colab": {
     "base_uri": "https://localhost:8080/",
     "height": 296
    },
    "id": "wZj8iqMdtLuj",
    "outputId": "d5373b57-08b7-4fcf-c267-d7b8edd84ec0"
   },
   "outputs": [
    {
     "data": {
      "text/plain": [
       "<matplotlib.axes._subplots.AxesSubplot at 0x7fbf492f3eb0>"
      ]
     },
     "execution_count": 30,
     "metadata": {},
     "output_type": "execute_result"
    },
    {
     "data": {
      "image/png": "[encoded data removed]",
      "text/plain": [
       "<Figure size 432x288 with 1 Axes>"
      ]
     },
     "metadata": {
      "needs_background": "light"
     },
     "output_type": "display_data"
    }
   ],
   "source": [
    "df.groupby('age').mean()['y'].plot(xlim=(15,101))"
   ]
  },
  {
   "cell_type": "markdown",
   "metadata": {
    "id": "qn9RGi89tLuj"
   },
   "source": [
    "#### b) Balance\n",
    "- Clients with negative balance seems to be less likely to subscribe"
   ]
  },
  {
   "cell_type": "code",
   "execution_count": 31,
   "metadata": {
    "colab": {
     "base_uri": "https://localhost:8080/",
     "height": 296
    },
    "id": "gjH0fnWttLuj",
    "outputId": "ec9b83a7-5341-4a4c-a7bc-f6ea8733818f"
   },
   "outputs": [
    {
     "data": {
      "text/plain": [
       "<matplotlib.axes._subplots.AxesSubplot at 0x7fbf492cbe50>"
      ]
     },
     "execution_count": 31,
     "metadata": {},
     "output_type": "execute_result"
    },
    {
     "data": {
      "image/png": "[encoded data removed]",
      "text/plain": [
       "<Figure size 432x288 with 1 Axes>"
      ]
     },
     "metadata": {
      "needs_background": "light"
     },
     "output_type": "display_data"
    }
   ],
   "source": [
    "sns.histplot(df['balance'], bins=50, kde=True)"
   ]
  },
  {
   "cell_type": "code",
   "execution_count": 32,
   "metadata": {
    "colab": {
     "base_uri": "https://localhost:8080/"
    },
    "id": "wZoWDd1VtLuk",
    "outputId": "14347a3f-6550-4962-e23a-5d0b8d6f811f"
   },
   "outputs": [
    {
     "name": "stdout",
     "output_type": "stream",
     "text": [
      "-162.0\n",
      "6102.0\n"
     ]
    }
   ],
   "source": [
    "# quantiles of 'balance'\n",
    "print(df.balance.quantile(.05))\n",
    "print(df.balance.quantile(.95))"
   ]
  },
  {
   "cell_type": "code",
   "execution_count": 33,
   "metadata": {
    "colab": {
     "base_uri": "https://localhost:8080/",
     "height": 296
    },
    "id": "Hes1lpjTtLuk",
    "outputId": "03dcb3ec-d021-45e4-9a04-6192405117d8"
   },
   "outputs": [
    {
     "data": {
      "text/plain": [
       "<matplotlib.axes._subplots.AxesSubplot at 0x7fbf49262820>"
      ]
     },
     "execution_count": 33,
     "metadata": {},
     "output_type": "execute_result"
    },
    {
     "data": {
      "image/png": "[encoded data removed]",
      "text/plain": [
       "<Figure size 432x288 with 1 Axes>"
      ]
     },
     "metadata": {
      "needs_background": "light"
     },
     "output_type": "display_data"
    }
   ],
   "source": [
    "sns.boxplot(x=df.balance)"
   ]
  },
  {
   "cell_type": "markdown",
   "metadata": {
    "id": "W5L2NgC7tLuk"
   },
   "source": [
    "- Learn from the distribution as well as the boxplot results, 'balance' has many outliers\n",
    "- So we try to limit the range and check balance again"
   ]
  },
  {
   "cell_type": "code",
   "execution_count": 34,
   "metadata": {
    "id": "HXy0L-bCtLuk"
   },
   "outputs": [],
   "source": [
    "# based on the 5% and 95% quantiles\n",
    "df_balance_ranged = df[(df['balance'] < 6000) & (df['balance'] > -200)]"
   ]
  },
  {
   "cell_type": "code",
   "execution_count": 35,
   "metadata": {
    "colab": {
     "base_uri": "https://localhost:8080/",
     "height": 300
    },
    "id": "cnn0XnnRtLuk",
    "outputId": "9110d01d-4c26-4ecd-925e-92dc10682113"
   },
   "outputs": [
    {
     "data": {
      "text/plain": [
       "<matplotlib.axes._subplots.AxesSubplot at 0x7fbf4e4afe50>"
      ]
     },
     "execution_count": 35,
     "metadata": {},
     "output_type": "execute_result"
    },
    {
     "data": {
      "image/png": "[encoded data removed]",
      "text/plain": [
       "<Figure size 432x288 with 1 Axes>"
      ]
     },
     "metadata": {
      "needs_background": "light"
     },
     "output_type": "display_data"
    }
   ],
   "source": [
    "sns.histplot(df_balance_ranged.balance, bins=50, kde=True)"
   ]
  },
  {
   "cell_type": "code",
   "execution_count": 36,
   "metadata": {
    "colab": {
     "base_uri": "https://localhost:8080/",
     "height": 355
    },
    "id": "sBvJXaJPtLuk",
    "outputId": "7f88eba4-eb8e-42f8-ca6f-af828e325712"
   },
   "outputs": [
    {
     "data": {
      "text/plain": [
       "<matplotlib.axes._subplots.AxesSubplot at 0x7fbf490bed30>"
      ]
     },
     "execution_count": 36,
     "metadata": {},
     "output_type": "execute_result"
    },
    {
     "data": {
      "image/png": "[encoded data removed]",
      "text/plain": [
       "<Figure size 432x288 with 1 Axes>"
      ]
     },
     "metadata": {
      "needs_background": "light"
     },
     "output_type": "display_data"
    }
   ],
   "source": [
    "df_balance_ranged.groupby(pd.cut(df_balance_ranged['balance'], bins=20)).mean()['y'].plot.bar(rot=45)"
   ]
  },
  {
   "cell_type": "markdown",
   "metadata": {
    "id": "hMpbBG40tLul"
   },
   "source": [
    "#### c) Duration\n",
    "- Client with longer last contact duration are more likely to subscribe\n",
    "- Turn duration into minutes for easier understanding"
   ]
  },
  {
   "cell_type": "code",
   "execution_count": 37,
   "metadata": {
    "colab": {
     "base_uri": "https://localhost:8080/",
     "height": 296
    },
    "id": "aNon2dF2tLul",
    "outputId": "fe96148b-bd9e-4fff-a69d-ec1c0b8d6752"
   },
   "outputs": [
    {
     "data": {
      "text/plain": [
       "<matplotlib.axes._subplots.AxesSubplot at 0x7fbf48ffa880>"
      ]
     },
     "execution_count": 37,
     "metadata": {},
     "output_type": "execute_result"
    },
    {
     "data": {
      "image/png": "[encoded data removed]",
      "text/plain": [
       "<Figure size 432x288 with 1 Axes>"
      ]
     },
     "metadata": {
      "needs_background": "light"
     },
     "output_type": "display_data"
    }
   ],
   "source": [
    "sns.histplot(df.duration / 60, bins=50, kde=True)"
   ]
  },
  {
   "cell_type": "markdown",
   "metadata": {
    "id": "1M7yL5qxtLul"
   },
   "source": [
    "- Still many outliers"
   ]
  },
  {
   "cell_type": "code",
   "execution_count": 38,
   "metadata": {
    "colab": {
     "base_uri": "https://localhost:8080/",
     "height": 296
    },
    "id": "irDIUFPjtLul",
    "outputId": "8ae3bb8b-d971-476a-edff-26566cdec988"
   },
   "outputs": [
    {
     "data": {
      "text/plain": [
       "<matplotlib.axes._subplots.AxesSubplot at 0x7fbf48fb2dc0>"
      ]
     },
     "execution_count": 38,
     "metadata": {},
     "output_type": "execute_result"
    },
    {
     "data": {
      "image/png": "[encoded data removed]",
      "text/plain": [
       "<Figure size 432x288 with 1 Axes>"
      ]
     },
     "metadata": {
      "needs_background": "light"
     },
     "output_type": "display_data"
    }
   ],
   "source": [
    "sns.boxplot(x=df.duration / 60)"
   ]
  },
  {
   "cell_type": "markdown",
   "metadata": {
    "id": "XlzQXfzotLul"
   },
   "source": [
    "- shown by the boxplot above, duration in min above 10~15 are regarded as outliers\n",
    "- then we further check those below 15\n",
    "- the below bar chart shows an increasing subscription probability of clients with longer contact duration"
   ]
  },
  {
   "cell_type": "code",
   "execution_count": 39,
   "metadata": {
    "colab": {
     "base_uri": "https://localhost:8080/",
     "height": 348
    },
    "id": "5qLy_S1UtLul",
    "outputId": "aa0ef0de-049b-4863-9bb9-ce5680e7a3be"
   },
   "outputs": [
    {
     "data": {
      "text/plain": [
       "<matplotlib.axes._subplots.AxesSubplot at 0x7fbf48ebbe20>"
      ]
     },
     "execution_count": 39,
     "metadata": {},
     "output_type": "execute_result"
    },
    {
     "data": {
      "image/png": "[encoded data removed]",
      "text/plain": [
       "<Figure size 432x288 with 1 Axes>"
      ]
     },
     "metadata": {
      "needs_background": "light"
     },
     "output_type": "display_data"
    }
   ],
   "source": [
    "df_duration_ranged = df[df['duration'] /60 <= 15]\n",
    "df_duration_ranged.groupby(pd.cut(df_duration_ranged['duration'], bins=20)).mean()['y'].plot.bar(rot=45)"
   ]
  },
  {
   "cell_type": "markdown",
   "metadata": {
    "id": "7j69-2LMtLul"
   },
   "source": [
    "#### d) Campaign\n",
    "- Most clients only have 1 contact during this campaign"
   ]
  },
  {
   "cell_type": "code",
   "execution_count": 40,
   "metadata": {
    "colab": {
     "base_uri": "https://localhost:8080/",
     "height": 296
    },
    "id": "rb0KSZtrtLum",
    "outputId": "36c33a6b-6a45-4437-bd79-4f4b16190351"
   },
   "outputs": [
    {
     "data": {
      "text/plain": [
       "<matplotlib.axes._subplots.AxesSubplot at 0x7fbf48de2ee0>"
      ]
     },
     "execution_count": 40,
     "metadata": {},
     "output_type": "execute_result"
    },
    {
     "data": {
      "image/png": "[encoded data removed]",
      "text/plain": [
       "<Figure size 432x288 with 1 Axes>"
      ]
     },
     "metadata": {
      "needs_background": "light"
     },
     "output_type": "display_data"
    }
   ],
   "source": [
    "sns.histplot(df.campaign, bins=50, kde=True)"
   ]
  },
  {
   "cell_type": "code",
   "execution_count": 41,
   "metadata": {
    "colab": {
     "base_uri": "https://localhost:8080/"
    },
    "id": "xHHa9rgMtLum",
    "outputId": "34509649-06c1-4fd0-e8d3-e13cc5baf6af"
   },
   "outputs": [
    {
     "name": "stdout",
     "output_type": "stream",
     "text": [
      "8.0\n",
      "16.0\n"
     ]
    }
   ],
   "source": [
    "print(df.campaign.quantile(.95))\n",
    "print(df.campaign.quantile(.99))"
   ]
  },
  {
   "cell_type": "markdown",
   "metadata": {
    "id": "sh8CBOa0tLum"
   },
   "source": [
    "- As 'campaign' > 13 don't have enough samples, we just take those <= 13 for deep diving\n",
    "- During this campaign, there's a trend that clients being contacted more are less and less likely to subscribe "
   ]
  },
  {
   "cell_type": "code",
   "execution_count": 42,
   "metadata": {
    "colab": {
     "base_uri": "https://localhost:8080/",
     "height": 299
    },
    "id": "3BXs8TzQtLum",
    "outputId": "358b5d71-00d2-440a-8afb-b679b67e8cd2"
   },
   "outputs": [
    {
     "data": {
      "text/plain": [
       "<matplotlib.axes._subplots.AxesSubplot at 0x7fbf48e0deb0>"
      ]
     },
     "execution_count": 42,
     "metadata": {},
     "output_type": "execute_result"
    },
    {
     "data": {
      "image/png": "[encoded data removed]",
      "text/plain": [
       "<Figure size 432x288 with 1 Axes>"
      ]
     },
     "metadata": {
      "needs_background": "light"
     },
     "output_type": "display_data"
    }
   ],
   "source": [
    "df[df['campaign'] <= 13].groupby('campaign').mean()['y'].plot.bar()"
   ]
  },
  {
   "cell_type": "markdown",
   "metadata": {
    "id": "ORiC8osatLum"
   },
   "source": [
    "#### e) Pdays\n",
    "- The majority of users did not have a last campaign"
   ]
  },
  {
   "cell_type": "code",
   "execution_count": 43,
   "metadata": {
    "colab": {
     "base_uri": "https://localhost:8080/",
     "height": 296
    },
    "id": "MyJ8BLl2tLun",
    "outputId": "ac60735b-79e0-4a74-dbb4-786fe2f0680c"
   },
   "outputs": [
    {
     "data": {
      "text/plain": [
       "<matplotlib.axes._subplots.AxesSubplot at 0x7fbf48e19190>"
      ]
     },
     "execution_count": 43,
     "metadata": {},
     "output_type": "execute_result"
    },
    {
     "data": {
      "image/png": "[encoded data removed]",
      "text/plain": [
       "<Figure size 432x288 with 1 Axes>"
      ]
     },
     "metadata": {
      "needs_background": "light"
     },
     "output_type": "display_data"
    }
   ],
   "source": [
    "sns.histplot(df.pdays, bins=50, kde=True)"
   ]
  },
  {
   "cell_type": "code",
   "execution_count": 44,
   "metadata": {
    "colab": {
     "base_uri": "https://localhost:8080/",
     "height": 296
    },
    "id": "NIsAcPjDtLun",
    "outputId": "807e0d9a-9d91-4e0e-bcdc-8285b3b5d64e"
   },
   "outputs": [
    {
     "data": {
      "text/plain": [
       "<matplotlib.axes._subplots.AxesSubplot at 0x7fbf48c87c40>"
      ]
     },
     "execution_count": 44,
     "metadata": {},
     "output_type": "execute_result"
    },
    {
     "data": {
      "image/png": "[encoded data removed]",
      "text/plain": [
       "<Figure size 432x288 with 1 Axes>"
      ]
     },
     "metadata": {
      "needs_background": "light"
     },
     "output_type": "display_data"
    }
   ],
   "source": [
    "sns.histplot(df[df.pdays > -1].pdays, bins=50, kde=True)"
   ]
  },
  {
   "cell_type": "markdown",
   "metadata": {
    "id": "DnOXF6TwtLut"
   },
   "source": [
    "#### f) Previous\n",
    "- Distribution of 'previous' is also extremly skewed\n",
    "- For the previous <= 10, clients with more previous campaigns are more likely to subscribe\n",
    "- Only few clients have previous campaigns > 10 (less than 1pp of the sample)"
   ]
  },
  {
   "cell_type": "code",
   "execution_count": 45,
   "metadata": {
    "colab": {
     "base_uri": "https://localhost:8080/",
     "height": 300
    },
    "id": "EtUd0_84tLuu",
    "outputId": "c9e52ae2-dc36-45fa-e569-a9ff9d452b1b"
   },
   "outputs": [
    {
     "data": {
      "text/plain": [
       "<matplotlib.axes._subplots.AxesSubplot at 0x7fbf48afe8e0>"
      ]
     },
     "execution_count": 45,
     "metadata": {},
     "output_type": "execute_result"
    },
    {
     "data": {
      "image/png": "[encoded data removed]",
      "text/plain": [
       "<Figure size 432x288 with 1 Axes>"
      ]
     },
     "metadata": {
      "needs_background": "light"
     },
     "output_type": "display_data"
    }
   ],
   "source": [
    "sns.histplot(df[df.previous > 0].previous, bins=50, kde=True)"
   ]
  },
  {
   "cell_type": "code",
   "execution_count": 46,
   "metadata": {
    "colab": {
     "base_uri": "https://localhost:8080/"
    },
    "id": "rb2Fe8NbtLuu",
    "outputId": "bc2f9974-9ded-4f96-f4fa-ed382298b083"
   },
   "outputs": [
    {
     "name": "stdout",
     "output_type": "stream",
     "text": [
      "3.0\n",
      "5.0\n",
      "8.0\n",
      "19.480000000000473\n"
     ]
    }
   ],
   "source": [
    "print(df.previous.quantile(0.95))\n",
    "print(df.previous.quantile(0.976))\n",
    "print(df.previous.quantile(0.99))\n",
    "print(df.previous.quantile(0.999))"
   ]
  },
  {
   "cell_type": "code",
   "execution_count": 47,
   "metadata": {
    "colab": {
     "base_uri": "https://localhost:8080/",
     "height": 296
    },
    "id": "AxXis_1ttLuu",
    "outputId": "e7e359b7-d9c1-4b26-f7f7-bf4155b1c218"
   },
   "outputs": [
    {
     "data": {
      "text/plain": [
       "<matplotlib.axes._subplots.AxesSubplot at 0x7fbf48b52220>"
      ]
     },
     "execution_count": 47,
     "metadata": {},
     "output_type": "execute_result"
    },
    {
     "data": {
      "image/png": "[encoded data removed]",
      "text/plain": [
       "<Figure size 432x288 with 1 Axes>"
      ]
     },
     "metadata": {
      "needs_background": "light"
     },
     "output_type": "display_data"
    }
   ],
   "source": [
    "sns.histplot(df.loc[df.previous <= 20, 'previous'], \n",
    "             bins=len(df.loc[df.previous <= 20, 'previous'].unique()), kde=True)"
   ]
  },
  {
   "cell_type": "code",
   "execution_count": 48,
   "metadata": {
    "colab": {
     "base_uri": "https://localhost:8080/",
     "height": 299
    },
    "id": "E_LBcDTitLuu",
    "outputId": "fb00dd1f-2393-4eb2-eb62-dbbabb783935"
   },
   "outputs": [
    {
     "data": {
      "text/plain": [
       "<matplotlib.axes._subplots.AxesSubplot at 0x7fbf48e41f10>"
      ]
     },
     "execution_count": 48,
     "metadata": {},
     "output_type": "execute_result"
    },
    {
     "data": {
      "image/png": "[encoded data removed]",
      "text/plain": [
       "<Figure size 432x288 with 1 Axes>"
      ]
     },
     "metadata": {
      "needs_background": "light"
     },
     "output_type": "display_data"
    }
   ],
   "source": [
    "df[df['previous'] <= 10].groupby('previous').mean()['y'].plot.bar()"
   ]
  },
  {
   "cell_type": "markdown",
   "metadata": {
    "id": "4KugsZWmtLuu"
   },
   "source": [
    "#### g) Month\n",
    "- A subtle seasonality is shown."
   ]
  },
  {
   "cell_type": "code",
   "execution_count": 49,
   "metadata": {
    "colab": {
     "base_uri": "https://localhost:8080/",
     "height": 295
    },
    "id": "tSROzCGltLuv",
    "outputId": "04ce8e7e-6494-4943-e319-fa03447cf830"
   },
   "outputs": [
    {
     "data": {
      "text/plain": [
       "<matplotlib.axes._subplots.AxesSubplot at 0x7fbf4892de80>"
      ]
     },
     "execution_count": 49,
     "metadata": {},
     "output_type": "execute_result"
    },
    {
     "data": {
      "image/png": "[encoded data removed]",
      "text/plain": [
       "<Figure size 432x288 with 1 Axes>"
      ]
     },
     "metadata": {
      "needs_background": "light"
     },
     "output_type": "display_data"
    }
   ],
   "source": [
    "df['month'].value_counts().loc[list(map(lambda x: x.lower(), month_abbr))[1:]].plot.bar(rot=45)"
   ]
  },
  {
   "cell_type": "code",
   "execution_count": 50,
   "metadata": {
    "colab": {
     "base_uri": "https://localhost:8080/",
     "height": 309
    },
    "id": "jAhc_DBDtLuv",
    "outputId": "43ebaa97-4ef6-4efb-d464-af12531823d6"
   },
   "outputs": [
    {
     "data": {
      "text/plain": [
       "<matplotlib.axes._subplots.AxesSubplot at 0x7fbf488b55e0>"
      ]
     },
     "execution_count": 50,
     "metadata": {},
     "output_type": "execute_result"
    },
    {
     "data": {
      "image/png": "[encoded data removed]",
      "text/plain": [
       "<Figure size 432x288 with 1 Axes>"
      ]
     },
     "metadata": {
      "needs_background": "light"
     },
     "output_type": "display_data"
    }
   ],
   "source": [
    "df.groupby('month').mean().loc[list(map(lambda x: x.lower(), month_abbr))[1:], 'y'].plot.bar(rot=45)"
   ]
  },
  {
   "cell_type": "markdown",
   "metadata": {
    "id": "C5R--b8ltLuv"
   },
   "source": [
    "#### h) Day\n",
    "- No correlation was found between day and customer subscription"
   ]
  },
  {
   "cell_type": "code",
   "execution_count": 51,
   "metadata": {
    "colab": {
     "base_uri": "https://localhost:8080/",
     "height": 296
    },
    "id": "k_OBodpotLuv",
    "outputId": "b02d56e1-b310-4432-fc28-099fc8e50317"
   },
   "outputs": [
    {
     "data": {
      "text/plain": [
       "<matplotlib.axes._subplots.AxesSubplot at 0x7fbf48832ac0>"
      ]
     },
     "execution_count": 51,
     "metadata": {},
     "output_type": "execute_result"
    },
    {
     "data": {
      "image/png": "[encoded data removed]",
      "text/plain": [
       "<Figure size 432x288 with 1 Axes>"
      ]
     },
     "metadata": {
      "needs_background": "light"
     },
     "output_type": "display_data"
    }
   ],
   "source": [
    "sns.histplot(df.day, bins=len(df['day'].unique()), kde=True)"
   ]
  },
  {
   "cell_type": "code",
   "execution_count": 52,
   "metadata": {
    "colab": {
     "base_uri": "https://localhost:8080/",
     "height": 299
    },
    "id": "GmwXuW8AtLuv",
    "outputId": "af1c67cc-a3cc-4b70-84b2-dd2bf89398d6"
   },
   "outputs": [
    {
     "data": {
      "text/plain": [
       "<matplotlib.axes._subplots.AxesSubplot at 0x7fbf487ce040>"
      ]
     },
     "execution_count": 52,
     "metadata": {},
     "output_type": "execute_result"
    },
    {
     "data": {
      "image/png": "[encoded data removed]",
      "text/plain": [
       "<Figure size 432x288 with 1 Axes>"
      ]
     },
     "metadata": {
      "needs_background": "light"
     },
     "output_type": "display_data"
    }
   ],
   "source": [
    "df.groupby('day').mean()['y'].plot.bar()"
   ]
  },
  {
   "cell_type": "markdown",
   "metadata": {
    "id": "awIGSJRqtLuw"
   },
   "source": [
    "#### i) Correlation\n",
    "- pdays & previous are correlated, while the rest are not considered correlated with each other."
   ]
  },
  {
   "cell_type": "code",
   "execution_count": 53,
   "metadata": {
    "colab": {
     "base_uri": "https://localhost:8080/",
     "height": 363
    },
    "id": "zn8k5zEZ3RLA",
    "outputId": "b74bad75-3b06-4c12-f39c-723770f70351"
   },
   "outputs": [
    {
     "data": {
      "image/png": "[encoded data removed]",
      "text/plain": [
       "<Figure size 720x360 with 2 Axes>"
      ]
     },
     "metadata": {
      "needs_background": "light"
     },
     "output_type": "display_data"
    }
   ],
   "source": [
    "fig, ax = plt.subplots(figsize=(10, 5))\n",
    "\n",
    "df_corr = df.corr(method='pearson')\n",
    "mask = np.zeros_like(df_corr)\n",
    "mask[np.triu_indices_from(mask)] = True\n",
    "\n",
    "sns.heatmap(data=df_corr, vmin=-1, vmax=1, mask=mask, \n",
    "            cmap=sns.color_palette('coolwarm', as_cmap=True),\n",
    "            annot=True, fmt='.2f', linewidths=.5, ax=ax)\n",
    "\n",
    "ax.set_xticklabels(ax.get_xticklabels(), rotation=65);"
   ]
  },
  {
   "cell_type": "markdown",
   "metadata": {
    "id": "zg5dc0hxtLuw"
   },
   "source": [
    "## Preprocessing"
   ]
  },
  {
   "cell_type": "markdown",
   "metadata": {
    "id": "l1k6aLhntLuw"
   },
   "source": [
    "### 3.1 Processing binary variables\n",
    "- {\"yes\": 1, \"no\": 0}"
   ]
  },
  {
   "cell_type": "code",
   "execution_count": 54,
   "metadata": {
    "id": "mkG9aopJtLuw"
   },
   "outputs": [],
   "source": [
    "mapping_yn = {'no': 0, 'yes': 1}\n",
    "col_binary = ['default', 'housing', 'loan']\n",
    "for col in col_binary:\n",
    "    df[col] = df[col].map(mapping_yn)"
   ]
  },
  {
   "cell_type": "markdown",
   "metadata": {
    "id": "MaRxG4uStLuw"
   },
   "source": [
    "### 3.2 Month\n",
    "- From string to numbers"
   ]
  },
  {
   "cell_type": "code",
   "execution_count": 55,
   "metadata": {
    "id": "HABiA_2ItLux"
   },
   "outputs": [],
   "source": [
    "mapping_month = dict((month.lower(), number) for number, month in enumerate(month_abbr))\n",
    "df['month'] = df['month'].map(mapping_month)"
   ]
  },
  {
   "cell_type": "markdown",
   "metadata": {
    "id": "TlN-KRgDtLux"
   },
   "source": [
    "### 3.3 Education\n",
    "- The education is ordinal and can be encoded as integers\n",
    "- We will deal with the unknown values after train test split"
   ]
  },
  {
   "cell_type": "code",
   "execution_count": 56,
   "metadata": {
    "id": "3bBrdpoOtLux"
   },
   "outputs": [],
   "source": [
    "edu_map = {'unknown':0, 'primary':1, 'secondary':2, 'tertiary':3}\n",
    "df['education'] = df.education.map(edu_map).astype('int')"
   ]
  },
  {
   "cell_type": "code",
   "execution_count": 57,
   "metadata": {
    "colab": {
     "base_uri": "https://localhost:8080/"
    },
    "id": "o866XsfitLux",
    "outputId": "c8fffeb9-07f5-4da5-a0ce-91592bc573e4"
   },
   "outputs": [
    {
     "data": {
      "text/plain": [
       "education\n",
       "2    2306\n",
       "3    1350\n",
       "1     678\n",
       "0     187\n",
       "Name: y, dtype: int64"
      ]
     },
     "execution_count": 57,
     "metadata": {},
     "output_type": "execute_result"
    }
   ],
   "source": [
    "df.groupby('education').count()['y'].sort_values(ascending=False)"
   ]
  },
  {
   "cell_type": "markdown",
   "metadata": {
    "id": "q7IWv7v7tLuy"
   },
   "source": [
    "### 3.4 One-hot encoding\n",
    "- Encode the nominal features with one-hot encoding"
   ]
  },
  {
   "cell_type": "code",
   "execution_count": 58,
   "metadata": {
    "id": "fDWGlp4ztLuy"
   },
   "outputs": [],
   "source": [
    "cols_dumm = ['job', 'marital', 'contact', 'poutcome']\n",
    "df = pd.get_dummies(df, columns=cols_dumm)"
   ]
  },
  {
   "cell_type": "code",
   "execution_count": 59,
   "metadata": {
    "id": "oLEaXGf6tLuy"
   },
   "outputs": [],
   "source": [
    "# Remove the columns corresponding to unknown value\n",
    "cols_onehot_unknown = [col for col in df.columns if 'unknown' in col]\n",
    "df = df.drop(cols_onehot_unknown, axis=1)"
   ]
  },
  {
   "cell_type": "code",
   "execution_count": 60,
   "metadata": {
    "id": "IOXXcByttLuy"
   },
   "outputs": [],
   "source": [
    "col_features = list(df.columns)\n",
    "col_features.remove('y')\n",
    "col_target = 'y'"
   ]
  },
  {
   "cell_type": "code",
   "execution_count": 61,
   "metadata": {
    "colab": {
     "base_uri": "https://localhost:8080/",
     "height": 225
    },
    "id": "iWuRNJ_4tLuy",
    "outputId": "f6e0d2ea-2eaf-4774-9e21-cdb866926630"
   },
   "outputs": [
    {
     "data": {
      "text/html": [
       "\n",
       "  <div id=\"df-3930d73a-d529-45f0-befe-fa12de53f063\">\n",
       "    <div class=\"colab-df-container\">\n",
       "      <div>\n",
       "<style scoped>\n",
       "    .dataframe tbody tr th:only-of-type {\n",
       "        vertical-align: middle;\n",
       "    }\n",
       "\n",
       "    .dataframe tbody tr th {\n",
       "        vertical-align: top;\n",
       "    }\n",
       "\n",
       "    .dataframe thead th {\n",
       "        text-align: right;\n",
       "    }\n",
       "</style>\n",
       "<table border=\"1\" class=\"dataframe\">\n",
       "  <thead>\n",
       "    <tr style=\"text-align: right;\">\n",
       "      <th></th>\n",
       "      <th>age</th>\n",
       "      <th>education</th>\n",
       "      <th>default</th>\n",
       "      <th>balance</th>\n",
       "      <th>housing</th>\n",
       "      <th>loan</th>\n",
       "      <th>day</th>\n",
       "      <th>month</th>\n",
       "      <th>duration</th>\n",
       "      <th>campaign</th>\n",
       "      <th>pdays</th>\n",
       "      <th>previous</th>\n",
       "      <th>y</th>\n",
       "      <th>job_admin.</th>\n",
       "      <th>job_blue-collar</th>\n",
       "      <th>job_entrepreneur</th>\n",
       "      <th>job_housemaid</th>\n",
       "      <th>job_management</th>\n",
       "      <th>job_retired</th>\n",
       "      <th>job_self-employed</th>\n",
       "      <th>job_services</th>\n",
       "      <th>job_student</th>\n",
       "      <th>job_technician</th>\n",
       "      <th>job_unemployed</th>\n",
       "      <th>marital_divorced</th>\n",
       "      <th>marital_married</th>\n",
       "      <th>marital_single</th>\n",
       "      <th>contact_cellular</th>\n",
       "      <th>contact_telephone</th>\n",
       "      <th>poutcome_failure</th>\n",
       "      <th>poutcome_other</th>\n",
       "      <th>poutcome_success</th>\n",
       "    </tr>\n",
       "  </thead>\n",
       "  <tbody>\n",
       "    <tr>\n",
       "      <th>0</th>\n",
       "      <td>30</td>\n",
       "      <td>1</td>\n",
       "      <td>0</td>\n",
       "      <td>1787</td>\n",
       "      <td>0</td>\n",
       "      <td>0</td>\n",
       "      <td>19</td>\n",
       "      <td>10</td>\n",
       "      <td>79</td>\n",
       "      <td>1</td>\n",
       "      <td>-1</td>\n",
       "      <td>0</td>\n",
       "      <td>0</td>\n",
       "      <td>0</td>\n",
       "      <td>0</td>\n",
       "      <td>0</td>\n",
       "      <td>0</td>\n",
       "      <td>0</td>\n",
       "      <td>0</td>\n",
       "      <td>0</td>\n",
       "      <td>0</td>\n",
       "      <td>0</td>\n",
       "      <td>0</td>\n",
       "      <td>1</td>\n",
       "      <td>0</td>\n",
       "      <td>1</td>\n",
       "      <td>0</td>\n",
       "      <td>1</td>\n",
       "      <td>0</td>\n",
       "      <td>0</td>\n",
       "      <td>0</td>\n",
       "      <td>0</td>\n",
       "    </tr>\n",
       "    <tr>\n",
       "      <th>1</th>\n",
       "      <td>33</td>\n",
       "      <td>2</td>\n",
       "      <td>0</td>\n",
       "      <td>4789</td>\n",
       "      <td>1</td>\n",
       "      <td>1</td>\n",
       "      <td>11</td>\n",
       "      <td>5</td>\n",
       "      <td>220</td>\n",
       "      <td>1</td>\n",
       "      <td>339</td>\n",
       "      <td>4</td>\n",
       "      <td>0</td>\n",
       "      <td>0</td>\n",
       "      <td>0</td>\n",
       "      <td>0</td>\n",
       "      <td>0</td>\n",
       "      <td>0</td>\n",
       "      <td>0</td>\n",
       "      <td>0</td>\n",
       "      <td>1</td>\n",
       "      <td>0</td>\n",
       "      <td>0</td>\n",
       "      <td>0</td>\n",
       "      <td>0</td>\n",
       "      <td>1</td>\n",
       "      <td>0</td>\n",
       "      <td>1</td>\n",
       "      <td>0</td>\n",
       "      <td>1</td>\n",
       "      <td>0</td>\n",
       "      <td>0</td>\n",
       "    </tr>\n",
       "    <tr>\n",
       "      <th>2</th>\n",
       "      <td>35</td>\n",
       "      <td>3</td>\n",
       "      <td>0</td>\n",
       "      <td>1350</td>\n",
       "      <td>1</td>\n",
       "      <td>0</td>\n",
       "      <td>16</td>\n",
       "      <td>4</td>\n",
       "      <td>185</td>\n",
       "      <td>1</td>\n",
       "      <td>330</td>\n",
       "      <td>1</td>\n",
       "      <td>0</td>\n",
       "      <td>0</td>\n",
       "      <td>0</td>\n",
       "      <td>0</td>\n",
       "      <td>0</td>\n",
       "      <td>1</td>\n",
       "      <td>0</td>\n",
       "      <td>0</td>\n",
       "      <td>0</td>\n",
       "      <td>0</td>\n",
       "      <td>0</td>\n",
       "      <td>0</td>\n",
       "      <td>0</td>\n",
       "      <td>0</td>\n",
       "      <td>1</td>\n",
       "      <td>1</td>\n",
       "      <td>0</td>\n",
       "      <td>1</td>\n",
       "      <td>0</td>\n",
       "      <td>0</td>\n",
       "    </tr>\n",
       "  </tbody>\n",
       "</table>\n",
       "</div>\n",
       "      <button class=\"colab-df-convert\" onclick=\"convertToInteractive('df-3930d73a-d529-45f0-befe-fa12de53f063')\"\n",
       "              title=\"Convert this dataframe to an interactive table.\"\n",
       "              style=\"display:none;\">\n",
       "        \n",
       "  <svg xmlns=\"http://www.w3.org/2000/svg\" height=\"24px\"viewBox=\"0 0 24 24\"\n",
       "       width=\"24px\">\n",
       "    <path d=\"M0 0h24v24H0V0z\" fill=\"none\"/>\n",
       "    <path d=\"M18.56 5.44l.94 2.06.94-2.06 2.06-.94-2.06-.94-.94-2.06-.94 2.06-2.06.94zm-11 1L8.5 8.5l.94-2.06 2.06-.94-2.06-.94L8.5 2.5l-.94 2.06-2.06.94zm10 10l.94 2.06.94-2.06 2.06-.94-2.06-.94-.94-2.06-.94 2.06-2.06.94z\"/><path d=\"M17.41 7.96l-1.37-1.37c-.4-.4-.92-.59-1.43-.59-.52 0-1.04.2-1.43.59L10.3 9.45l-7.72 7.72c-.78.78-.78 2.05 0 2.83L4 21.41c.39.39.9.59 1.41.59.51 0 1.02-.2 1.41-.59l7.78-7.78 2.81-2.81c.8-.78.8-2.07 0-2.86zM5.41 20L4 18.59l7.72-7.72 1.47 1.35L5.41 20z\"/>\n",
       "  </svg>\n",
       "      </button>\n",
       "      \n",
       "  <style>\n",
       "    .colab-df-container {\n",
       "      display:flex;\n",
       "      flex-wrap:wrap;\n",
       "      gap: 12px;\n",
       "    }\n",
       "\n",
       "    .colab-df-convert {\n",
       "      background-color: #E8F0FE;\n",
       "      border: none;\n",
       "      border-radius: 50%;\n",
       "      cursor: pointer;\n",
       "      display: none;\n",
       "      fill: #1967D2;\n",
       "      height: 32px;\n",
       "      padding: 0 0 0 0;\n",
       "      width: 32px;\n",
       "    }\n",
       "\n",
       "    .colab-df-convert:hover {\n",
       "      background-color: #E2EBFA;\n",
       "      box-shadow: 0px 1px 2px rgba(60, 64, 67, 0.3), 0px 1px 3px 1px rgba(60, 64, 67, 0.15);\n",
       "      fill: #174EA6;\n",
       "    }\n",
       "\n",
       "    [theme=dark] .colab-df-convert {\n",
       "      background-color: #3B4455;\n",
       "      fill: #D2E3FC;\n",
       "    }\n",
       "\n",
       "    [theme=dark] .colab-df-convert:hover {\n",
       "      background-color: #434B5C;\n",
       "      box-shadow: 0px 1px 3px 1px rgba(0, 0, 0, 0.15);\n",
       "      filter: drop-shadow(0px 1px 2px rgba(0, 0, 0, 0.3));\n",
       "      fill: #FFFFFF;\n",
       "    }\n",
       "  </style>\n",
       "\n",
       "      <script>\n",
       "        const buttonEl =\n",
       "          document.querySelector('#df-3930d73a-d529-45f0-befe-fa12de53f063 button.colab-df-convert');\n",
       "        buttonEl.style.display =\n",
       "          google.colab.kernel.accessAllowed ? 'block' : 'none';\n",
       "\n",
       "        async function convertToInteractive(key) {\n",
       "          const element = document.querySelector('#df-3930d73a-d529-45f0-befe-fa12de53f063');\n",
       "          const dataTable =\n",
       "            await google.colab.kernel.invokeFunction('convertToInteractive',\n",
       "                                                     [key], {});\n",
       "          if (!dataTable) return;\n",
       "\n",
       "          const docLinkHtml = 'Like what you see? Visit the ' +\n",
       "            '<a target=\"_blank\" href=https://colab.research.google.com/notebooks/data_table.ipynb>data table notebook</a>'\n",
       "            + ' to learn more about interactive tables.';\n",
       "          element.innerHTML = '';\n",
       "          dataTable['output_type'] = 'display_data';\n",
       "          await google.colab.output.renderOutput(dataTable, element);\n",
       "          const docLink = document.createElement('div');\n",
       "          docLink.innerHTML = docLinkHtml;\n",
       "          element.appendChild(docLink);\n",
       "        }\n",
       "      </script>\n",
       "    </div>\n",
       "  </div>\n",
       "  "
      ],
      "text/plain": [
       "   age  education  default  balance  housing  loan  day  month  duration  \\\n",
       "0   30          1        0     1787        0     0   19     10        79   \n",
       "1   33          2        0     4789        1     1   11      5       220   \n",
       "2   35          3        0     1350        1     0   16      4       185   \n",
       "\n",
       "   campaign  pdays  previous  y  job_admin.  job_blue-collar  \\\n",
       "0         1     -1         0  0           0                0   \n",
       "1         1    339         4  0           0                0   \n",
       "2         1    330         1  0           0                0   \n",
       "\n",
       "   job_entrepreneur  job_housemaid  job_management  job_retired  \\\n",
       "0                 0              0               0            0   \n",
       "1                 0              0               0            0   \n",
       "2                 0              0               1            0   \n",
       "\n",
       "   job_self-employed  job_services  job_student  job_technician  \\\n",
       "0                  0             0            0               0   \n",
       "1                  0             1            0               0   \n",
       "2                  0             0            0               0   \n",
       "\n",
       "   job_unemployed  marital_divorced  marital_married  marital_single  \\\n",
       "0               1                 0                1               0   \n",
       "1               0                 0                1               0   \n",
       "2               0                 0                0               1   \n",
       "\n",
       "   contact_cellular  contact_telephone  poutcome_failure  poutcome_other  \\\n",
       "0                 1                  0                 0               0   \n",
       "1                 1                  0                 1               0   \n",
       "2                 1                  0                 1               0   \n",
       "\n",
       "   poutcome_success  \n",
       "0                 0  \n",
       "1                 0  \n",
       "2                 0  "
      ]
     },
     "execution_count": 61,
     "metadata": {},
     "output_type": "execute_result"
    }
   ],
   "source": [
    "# Check current data set\n",
    "pd.set_option('display.max_columns', None)\n",
    "df.head(3)"
   ]
  },
  {
   "cell_type": "markdown",
   "metadata": {
    "id": "PXhumM3FtLuy"
   },
   "source": [
    "### 3.5 Train Test Split\n",
    "- Randomly select 20% of data set as test set"
   ]
  },
  {
   "cell_type": "code",
   "execution_count": 62,
   "metadata": {
    "id": "YMBRPtDdtLuz"
   },
   "outputs": [],
   "source": [
    "df_train, df_test = train_test_split(df, test_size = 0.2, random_state = 1012, stratify=df[col_target])"
   ]
  },
  {
   "cell_type": "code",
   "execution_count": 63,
   "metadata": {
    "id": "DtxfGcNZtLuz"
   },
   "outputs": [],
   "source": [
    "X_train, y_train = df_train[col_features].copy(), df_train[col_target].copy()\n",
    "X_test, y_test = df_test[col_features].copy(), df_test[col_target].copy()"
   ]
  },
  {
   "cell_type": "code",
   "execution_count": 64,
   "metadata": {
    "colab": {
     "base_uri": "https://localhost:8080/"
    },
    "id": "34gZ99mNtLuz",
    "outputId": "0ee85321-60cd-4781-c0ca-c49dbc93150a"
   },
   "outputs": [
    {
     "name": "stdout",
     "output_type": "stream",
     "text": [
      "Input size:\n",
      "Training Set: (3616, 31)\n",
      "Test Set: (905, 31)\n"
     ]
    }
   ],
   "source": [
    "print('Input size:')\n",
    "print(f'Training Set: {X_train.shape}')\n",
    "print(f'Test Set: {X_test.shape}')"
   ]
  },
  {
   "cell_type": "code",
   "execution_count": 65,
   "metadata": {
    "colab": {
     "base_uri": "https://localhost:8080/"
    },
    "id": "9c4odaXYtLuz",
    "outputId": "5495c3fa-6d01-4ae0-f781-f6c37e3f473c"
   },
   "outputs": [
    {
     "name": "stdout",
     "output_type": "stream",
     "text": [
      "Output size:\n",
      "Training Set: (3616,)\n",
      "Test Set: (905,)\n"
     ]
    }
   ],
   "source": [
    "print('Output size:')\n",
    "print(f'Training Set: {y_train.shape}')\n",
    "print(f'Test Set: {y_test.shape}')"
   ]
  },
  {
   "cell_type": "markdown",
   "metadata": {
    "id": "uFntuTwwtLuz"
   },
   "source": [
    "### 3.6 Imputing Education\n",
    "- As there're around 4% of 'unknown' in education, we try to apply a basic random forest algorithm to fill them\n",
    "- The random forest should only be trained on **training set**, because we should not gather information from test set"
   ]
  },
  {
   "cell_type": "code",
   "execution_count": 66,
   "metadata": {
    "id": "RqRxBddHtLu0"
   },
   "outputs": [],
   "source": [
    "# Train RF imputer using data with known education\n",
    "rf_imputer = RandomForestClassifier(random_state=1012)"
   ]
  },
  {
   "cell_type": "code",
   "execution_count": 67,
   "metadata": {
    "id": "8DDPjY5TtLu0"
   },
   "outputs": [],
   "source": [
    "# Use all features except 'education' to build model and predict 'education'\n",
    "col_impute = col_features.copy()\n",
    "col_impute.remove('education')\n",
    "X_impute = X_train.loc[X_train['education'] != 0, col_impute]\n",
    "y_impute = X_train.loc[X_train['education'] != 0, 'education']"
   ]
  },
  {
   "cell_type": "code",
   "execution_count": 68,
   "metadata": {
    "colab": {
     "base_uri": "https://localhost:8080/"
    },
    "id": "beChSC0TtLu0",
    "outputId": "b1256421-e144-49e3-9093-12db7a02b213"
   },
   "outputs": [
    {
     "data": {
      "text/plain": [
       "array([0.70503597, 0.69640288, 0.71510791, 0.67338129, 0.70172911])"
      ]
     },
     "execution_count": 68,
     "metadata": {},
     "output_type": "execute_result"
    }
   ],
   "source": [
    "# Check the performance of the imputer with cross validation within training set\n",
    "cross_val_score(rf_imputer, X_impute, y_impute, cv=5, scoring='accuracy')"
   ]
  },
  {
   "cell_type": "code",
   "execution_count": 69,
   "metadata": {
    "colab": {
     "base_uri": "https://localhost:8080/"
    },
    "id": "PxZCImsMtLu0",
    "outputId": "17f571c6-23eb-474d-937e-e4a7667f64c7"
   },
   "outputs": [
    {
     "data": {
      "text/plain": [
       "RandomForestClassifier(random_state=1012)"
      ]
     },
     "execution_count": 69,
     "metadata": {},
     "output_type": "execute_result"
    }
   ],
   "source": [
    "# Use the whole training set with known education value to train the imputer\n",
    "rf_imputer.fit(X=X_impute, y=y_impute)"
   ]
  },
  {
   "cell_type": "code",
   "execution_count": 70,
   "metadata": {
    "id": "A3EtH_TftLu0"
   },
   "outputs": [],
   "source": [
    "# Transform the training set\n",
    "X_train.loc[X_train['education'] == 0,'education'] \\\n",
    "    = rf_imputer.predict(X_train.loc[X_train['education'] == 0, col_impute])\n",
    "\n",
    "# Transform the test set\n",
    "X_test.loc[X_test['education'] == 0,'education'] \\\n",
    "    = rf_imputer.predict(X_test.loc[X_test['education'] == 0, col_impute])"
   ]
  },
  {
   "cell_type": "markdown",
   "metadata": {
    "id": "BlZ9wF2GtLu0"
   },
   "source": [
    "### 3.7 Standardization\n",
    "- For the algorithms that have implemented balanced class weights by scikit-learn, such as logistic regression, ridge classification and random forest, we can only standardize and don't oversample."
   ]
  },
  {
   "cell_type": "code",
   "execution_count": 71,
   "metadata": {
    "id": "QBWEfYC2tLu1"
   },
   "outputs": [],
   "source": [
    "scaler = MinMaxScaler()"
   ]
  },
  {
   "cell_type": "code",
   "execution_count": 72,
   "metadata": {
    "id": "caiibBb0tLu1"
   },
   "outputs": [],
   "source": [
    "# Standarding (for algorithms that can apply balanced class weights)\n",
    "X_train_scaled = scaler.fit_transform(X_train)\n",
    "X_test_scaled = scaler.transform(X_test)"
   ]
  },
  {
   "cell_type": "markdown",
   "metadata": {
    "id": "x6gENffDtLu1"
   },
   "source": [
    "### 3.8 Oversampling\n",
    "- For the algorithms that have not implemented balanced class weights by scikit-learn, we should manually oversample for a balanced data.\n",
    "- Decision-tree-based algorithms do not require a standardization."
   ]
  },
  {
   "cell_type": "code",
   "execution_count": 73,
   "metadata": {
    "id": "aj6MsAlctLu1"
   },
   "outputs": [],
   "source": [
    "sm = SMOTE(random_state=1012)"
   ]
  },
  {
   "cell_type": "code",
   "execution_count": 74,
   "metadata": {
    "id": "J3cgiOdJtLu1"
   },
   "outputs": [],
   "source": [
    "# Only oversampling (for decision-tree-based algorithms and cannot apply balanced class weights)\n",
    "X_train_sm, y_train_sm = sm.fit_resample(X_train, y_train)"
   ]
  },
  {
   "cell_type": "code",
   "execution_count": 75,
   "metadata": {
    "id": "3TUVZmzWtLu1"
   },
   "outputs": [],
   "source": [
    "# Stardardized + Oversampling (for algorithms cannot apply balanced class weights)\n",
    "X_train_scaled_sm, y_train_scaled_sm = sm.fit_resample(X_train_scaled, y_train)"
   ]
  },
  {
   "cell_type": "markdown",
   "metadata": {
    "id": "YzxRwOJutLu2"
   },
   "source": [
    "### 3.9 Input Correlation\n",
    "- Find if the input features have a strong correlation with each other\n",
    "- Only features regarding previous campaign are highly correlated because most people does not have a previous previous campaign"
   ]
  },
  {
   "cell_type": "code",
   "execution_count": 76,
   "metadata": {
    "colab": {
     "base_uri": "https://localhost:8080/",
     "height": 651
    },
    "id": "iz1-hsQctLu2",
    "outputId": "be720a1a-876a-45f1-b912-7f04e01465ff"
   },
   "outputs": [
    {
     "data": {
      "text/plain": [
       "<matplotlib.axes._subplots.AxesSubplot at 0x7fbf485864f0>"
      ]
     },
     "execution_count": 76,
     "metadata": {},
     "output_type": "execute_result"
    },
    {
     "data": {
      "image/png": "[encoded data removed]",
      "text/plain": [
       "<Figure size 792x648 with 2 Axes>"
      ]
     },
     "metadata": {},
     "output_type": "display_data"
    }
   ],
   "source": [
    "sns.set_theme(style=\"white\")\n",
    "\n",
    "# Compute the correlation matrix with pearson\n",
    "corr = X_train.corr(method='pearson')\n",
    "\n",
    "# Generate a mask for the upper triangle\n",
    "# mask = np.triu(np.ones_like(corr, dtype=bool))\n",
    "\n",
    "# Set up the matplotlib figure\n",
    "f, ax = plt.subplots(figsize=(11, 9))\n",
    "\n",
    "# Generate a custom diverging colormap\n",
    "cmap = sns.diverging_palette(230, 20, as_cmap=True)\n",
    "\n",
    "# Draw the heatmap with the mask and correct aspect ratio\n",
    "sns.heatmap(corr, cmap=cmap, vmax=1.0, vmin=-1.0, center=0,\n",
    "            square=True, linewidths=.5, cbar_kws={\"shrink\": .5})"
   ]
  },
  {
   "cell_type": "markdown",
   "metadata": {
    "id": "pGkio1pgtLu2"
   },
   "source": [
    "##  Modeling\n",
    "- There're 4 preprocessed data ready to use\n",
    "    1. X_train, X_test: only after basic transformation\n",
    "    2. X_train_scaled, X_test_scaled: transform + standardize\n",
    "    3. X_train_sm, X_test_sm: transform + oversampling\n",
    "    4. X_train_scaled_sm, X_test_scaled_sm: transform + standardize + oversampling\n",
    "- Using **5-fold cross validation** and **MCC score** to tune the hyper-parameters"
   ]
  },
  {
   "cell_type": "code",
   "execution_count": 77,
   "metadata": {
    "id": "Pk-78nzStLu2"
   },
   "outputs": [],
   "source": [
    "# Make a MCC Scorer for GridSearchCV Hyper-parameter tuning\n",
    "MCC_scorer = make_scorer(matthews_corrcoef)"
   ]
  },
  {
   "cell_type": "markdown",
   "metadata": {
    "id": "svpHNkDvtLu2"
   },
   "source": [
    "### 4.1 Logistic Regression"
   ]
  },
  {
   "cell_type": "markdown",
   "metadata": {
    "id": "HoMNBJMvtLu2"
   },
   "source": [
    "#### a) Training"
   ]
  },
  {
   "cell_type": "code",
   "execution_count": 78,
   "metadata": {
    "id": "4UL-oc6VtLu2"
   },
   "outputs": [],
   "source": [
    "params_logistic = {'C': [0.1, 0.5, 1, 5, 10, 20, 40, 70, 100, 300, 500]}\n",
    "clf_logistic = GridSearchCV(LogisticRegression(tol=1e-4, max_iter=10000, class_weight='balanced'), \n",
    "                            params_logistic, cv=5, scoring=MCC_scorer)"
   ]
  },
  {
   "cell_type": "code",
   "execution_count": 79,
   "metadata": {
    "colab": {
     "base_uri": "https://localhost:8080/"
    },
    "id": "ZBrohNeCtLu3",
    "outputId": "7850d788-1aad-4ef0-ec57-a374d8e9ae50"
   },
   "outputs": [
    {
     "data": {
      "text/plain": [
       "GridSearchCV(cv=5,\n",
       "             estimator=LogisticRegression(class_weight='balanced',\n",
       "                                          max_iter=10000),\n",
       "             param_grid={'C': [0.1, 0.5, 1, 5, 10, 20, 40, 70, 100, 300, 500]},\n",
       "             scoring=make_scorer(matthews_corrcoef))"
      ]
     },
     "execution_count": 79,
     "metadata": {},
     "output_type": "execute_result"
    }
   ],
   "source": [
    "clf_logistic.fit(X_train_scaled, y_train)"
   ]
  },
  {
   "cell_type": "code",
   "execution_count": 80,
   "metadata": {
    "colab": {
     "base_uri": "https://localhost:8080/"
    },
    "id": "uiQ83JUbtLu3",
    "outputId": "9b7e2c88-6134-41f2-8563-390054a262a3"
   },
   "outputs": [
    {
     "data": {
      "text/plain": [
       "{'C': 10}"
      ]
     },
     "execution_count": 80,
     "metadata": {},
     "output_type": "execute_result"
    }
   ],
   "source": [
    "clf_logistic.best_params_"
   ]
  },
  {
   "cell_type": "code",
   "execution_count": 81,
   "metadata": {
    "colab": {
     "base_uri": "https://localhost:8080/"
    },
    "id": "Ycc1UUJvtLu3",
    "outputId": "4d9807cd-8090-43bc-a6ec-8755103c7a49"
   },
   "outputs": [
    {
     "name": "stdout",
     "output_type": "stream",
     "text": [
      "5-Fold cross validation score: 0.4460\n"
     ]
    }
   ],
   "source": [
    "# Best cross validation score\n",
    "print(f'5-Fold cross validation score: {clf_logistic.best_score_:.4f}')"
   ]
  },
  {
   "cell_type": "markdown",
   "metadata": {
    "id": "anL1V5tPtLu3"
   },
   "source": [
    "#### b) Performance on test set"
   ]
  },
  {
   "cell_type": "code",
   "execution_count": 82,
   "metadata": {
    "id": "W6pcnKjRtLu4"
   },
   "outputs": [],
   "source": [
    "pred_logistic = clf_logistic.predict(X_test_scaled)"
   ]
  },
  {
   "cell_type": "code",
   "execution_count": 83,
   "metadata": {
    "colab": {
     "base_uri": "https://localhost:8080/"
    },
    "id": "et5J4v-dtLu4",
    "outputId": "d7947a4c-cc50-4620-e405-2b343ca35c23"
   },
   "outputs": [
    {
     "name": "stdout",
     "output_type": "stream",
     "text": [
      "              precision    recall  f1-score   support\n",
      "\n",
      "           0       0.96      0.84      0.89       801\n",
      "           1       0.37      0.74      0.49       104\n",
      "\n",
      "    accuracy                           0.83       905\n",
      "   macro avg       0.67      0.79      0.69       905\n",
      "weighted avg       0.89      0.83      0.85       905\n",
      "\n"
     ]
    }
   ],
   "source": [
    "print(classification_report(y_test, pred_logistic))"
   ]
  },
  {
   "cell_type": "code",
   "execution_count": 84,
   "metadata": {
    "colab": {
     "base_uri": "https://localhost:8080/"
    },
    "id": "imaUxte5tLu4",
    "outputId": "89128b20-db56-458e-9e8b-5b64856e795a",
    "scrolled": false
   },
   "outputs": [
    {
     "name": "stdout",
     "output_type": "stream",
     "text": [
      "MCC of Logistic Regression: 0.4373\n"
     ]
    }
   ],
   "source": [
    "mcc_logistic = matthews_corrcoef(y_test, pred_logistic)\n",
    "print(f'MCC of Logistic Regression: {mcc_logistic:.4f}')"
   ]
  },
  {
   "cell_type": "markdown",
   "metadata": {
    "id": "Lf1sWnVrtLu4"
   },
   "source": [
    "#### c) Coefficients in model\n",
    "- The users with **successful previous campaigns** have higher probability to subscribe to a new campaign\n",
    "- **Students** and the **retired** are the groups with higher probability of subscription\n",
    "- Clients with **personal or housing loan** have relatively less money to subscribe to a term deposit, while those with **higher balance** should be the target\n",
    "- The number of contacts during this campaign is also negative. So we should try to **reduce the number of times** contacting our customer during one single campaign"
   ]
  },
  {
   "cell_type": "code",
   "execution_count": 85,
   "metadata": {
    "colab": {
     "base_uri": "https://localhost:8080/",
     "height": 466
    },
    "id": "8V6SY0KqtLu4",
    "outputId": "a4243fe6-de02-4b48-a3b5-6deb6ccaa923",
    "scrolled": false
   },
   "outputs": [
    {
     "data": {
      "text/plain": [
       "<matplotlib.axes._subplots.AxesSubplot at 0x7fbf48447dc0>"
      ]
     },
     "execution_count": 85,
     "metadata": {},
     "output_type": "execute_result"
    },
    {
     "data": {
      "image/png": "[encoded data removed]",
      "text/plain": [
       "<Figure size 1080x360 with 1 Axes>"
      ]
     },
     "metadata": {},
     "output_type": "display_data"
    }
   ],
   "source": [
    "# Get the coefficients to see the contribution of each feature\n",
    "coef_logistic = pd.DataFrame({'feature': col_features, 'coef': clf_logistic.best_estimator_.coef_[0]})\\\n",
    "    .sort_values('coef', ascending=False).reset_index(drop=True)\n",
    "coef_logistic.plot(kind='bar', x='feature', y='coef',\n",
    "                   title='Coefficients in logistic regression model', legend=False, \n",
    "                   figsize=(15,5))"
   ]
  },
  {
   "cell_type": "code",
   "execution_count": 86,
   "metadata": {
    "colab": {
     "base_uri": "https://localhost:8080/",
     "height": 389
    },
    "id": "X0APyY0qtLu5",
    "outputId": "40a2c247-90a4-4124-f435-65e8df566ead"
   },
   "outputs": [
    {
     "data": {
      "text/plain": [
       "<matplotlib.axes._subplots.AxesSubplot at 0x7fbf48485130>"
      ]
     },
     "execution_count": 86,
     "metadata": {},
     "output_type": "execute_result"
    },
    {
     "data": {
      "image/png": "[encoded data removed]",
      "text/plain": [
       "<Figure size 504x288 with 1 Axes>"
      ]
     },
     "metadata": {},
     "output_type": "display_data"
    }
   ],
   "source": [
    "# The most positive features\n",
    "coef_logistic.iloc[0:8].plot(kind='bar', x='feature', y='coef', rot=45,\n",
    "                   title='Coefficients in logistic regression model', legend=False, \n",
    "                   figsize=(7,4))"
   ]
  },
  {
   "cell_type": "code",
   "execution_count": 87,
   "metadata": {
    "colab": {
     "base_uri": "https://localhost:8080/",
     "height": 383
    },
    "id": "gLwyBxKftLu5",
    "outputId": "5dad63cd-5745-49ae-c596-2683a9f48192"
   },
   "outputs": [
    {
     "data": {
      "text/plain": [
       "<matplotlib.axes._subplots.AxesSubplot at 0x7fbf46ae6eb0>"
      ]
     },
     "execution_count": 87,
     "metadata": {},
     "output_type": "execute_result"
    },
    {
     "data": {
      "image/png": "[encoded data removed]",
      "text/plain": [
       "<Figure size 432x288 with 1 Axes>"
      ]
     },
     "metadata": {},
     "output_type": "display_data"
    }
   ],
   "source": [
    "# The most negative features\n",
    "coef_logistic.iloc[-5:].plot(kind='bar', x='feature', y='coef', rot=45,\n",
    "                   title='Coefficients in logistic regression model', legend=False, \n",
    "                   figsize=(6,4))"
   ]
  },
  {
   "cell_type": "markdown",
   "metadata": {
    "id": "3Ov7Y5XPtLu5"
   },
   "source": [
    "### 4.2 Ridge Classifier"
   ]
  },
  {
   "cell_type": "markdown",
   "metadata": {
    "id": "0pBWNjDltLu5"
   },
   "source": [
    "#### a) Training"
   ]
  },
  {
   "cell_type": "code",
   "execution_count": 88,
   "metadata": {
    "id": "skwgMEYStLu5"
   },
   "outputs": [],
   "source": [
    "params_ridge = {'alpha': [ 1e-09, 1e-08, 1e-07, 1e-06, 1e-05, 1e-04, 1e-03, 1e-02, 1e-01]}\n",
    "clf_ridge = GridSearchCV(RidgeClassifier(tol=1e-4, class_weight='balanced'), \n",
    "                         params_ridge, cv=5, scoring=MCC_scorer)"
   ]
  },
  {
   "cell_type": "code",
   "execution_count": 89,
   "metadata": {
    "colab": {
     "base_uri": "https://localhost:8080/"
    },
    "id": "KRK63k8ItLu6",
    "outputId": "a0aecb56-64a6-4268-cc6b-5d347061c04c"
   },
   "outputs": [
    {
     "data": {
      "text/plain": [
       "GridSearchCV(cv=5,\n",
       "             estimator=RidgeClassifier(class_weight='balanced', tol=0.0001),\n",
       "             param_grid={'alpha': [1e-09, 1e-08, 1e-07, 1e-06, 1e-05, 0.0001,\n",
       "                                   0.001, 0.01, 0.1]},\n",
       "             scoring=make_scorer(matthews_corrcoef))"
      ]
     },
     "execution_count": 89,
     "metadata": {},
     "output_type": "execute_result"
    }
   ],
   "source": [
    "clf_ridge.fit(X_train_scaled, y_train)"
   ]
  },
  {
   "cell_type": "code",
   "execution_count": 90,
   "metadata": {
    "colab": {
     "base_uri": "https://localhost:8080/"
    },
    "id": "zUlATfLHtLu6",
    "outputId": "94b38596-d2da-4904-bb41-978d11080bcc"
   },
   "outputs": [
    {
     "data": {
      "text/plain": [
       "{'alpha': 1e-09}"
      ]
     },
     "execution_count": 90,
     "metadata": {},
     "output_type": "execute_result"
    }
   ],
   "source": [
    "clf_ridge.best_params_"
   ]
  },
  {
   "cell_type": "code",
   "execution_count": 91,
   "metadata": {
    "colab": {
     "base_uri": "https://localhost:8080/"
    },
    "id": "DssA6r34tLu6",
    "outputId": "16f268b2-9013-4fc1-f783-8bff0b3583b7"
   },
   "outputs": [
    {
     "name": "stdout",
     "output_type": "stream",
     "text": [
      "5-Fold cross validation score: 0.4426\n"
     ]
    }
   ],
   "source": [
    "# Best cross validation score\n",
    "print(f'5-Fold cross validation score: {clf_ridge.best_score_:.4f}')"
   ]
  },
  {
   "cell_type": "markdown",
   "metadata": {
    "id": "pSezZatTtLu6"
   },
   "source": [
    "#### b) Performance on test set"
   ]
  },
  {
   "cell_type": "code",
   "execution_count": 92,
   "metadata": {
    "id": "ghCfN6rNtLu6"
   },
   "outputs": [],
   "source": [
    "pred_ridge = clf_ridge.predict(X_test_scaled)"
   ]
  },
  {
   "cell_type": "code",
   "execution_count": 93,
   "metadata": {
    "colab": {
     "base_uri": "https://localhost:8080/"
    },
    "id": "CUTpctQatLu6",
    "outputId": "ed477732-c470-4b7b-b8f9-bbf33aa8cb96"
   },
   "outputs": [
    {
     "name": "stdout",
     "output_type": "stream",
     "text": [
      "              precision    recall  f1-score   support\n",
      "\n",
      "           0       0.96      0.85      0.90       801\n",
      "           1       0.38      0.69      0.49       104\n",
      "\n",
      "    accuracy                           0.83       905\n",
      "   macro avg       0.67      0.77      0.70       905\n",
      "weighted avg       0.89      0.83      0.85       905\n",
      "\n"
     ]
    }
   ],
   "source": [
    "print(classification_report(y_test, pred_ridge))"
   ]
  },
  {
   "cell_type": "code",
   "execution_count": 94,
   "metadata": {
    "colab": {
     "base_uri": "https://localhost:8080/"
    },
    "id": "GPcAAYKztLu7",
    "outputId": "956fced9-19ae-4331-be30-796c98db665b"
   },
   "outputs": [
    {
     "name": "stdout",
     "output_type": "stream",
     "text": [
      "MCC of Ridge Classifier: 0.4268\n"
     ]
    }
   ],
   "source": [
    "mcc_ridge = matthews_corrcoef(y_test, pred_ridge)\n",
    "print(f'MCC of Ridge Classifier: {mcc_ridge:.4f}')"
   ]
  },
  {
   "cell_type": "markdown",
   "metadata": {
    "id": "ZkIrhrMJtLu7"
   },
   "source": [
    "#### c) Coefficients in model"
   ]
  },
  {
   "cell_type": "code",
   "execution_count": 95,
   "metadata": {
    "colab": {
     "base_uri": "https://localhost:8080/",
     "height": 466
    },
    "id": "oPiYh2MgtLu7",
    "outputId": "3331eb70-aa23-4cc1-df5e-e56b9fcd2bf1",
    "scrolled": false
   },
   "outputs": [
    {
     "data": {
      "text/plain": [
       "<matplotlib.axes._subplots.AxesSubplot at 0x7fbf485c2250>"
      ]
     },
     "execution_count": 95,
     "metadata": {},
     "output_type": "execute_result"
    },
    {
     "data": {
      "image/png": "[encoded data removed]",
      "text/plain": [
       "<Figure size 1080x360 with 1 Axes>"
      ]
     },
     "metadata": {},
     "output_type": "display_data"
    }
   ],
   "source": [
    "coef_ridge = pd.DataFrame({'feature': col_features, 'coef': clf_ridge.best_estimator_.coef_[0]})\\\n",
    "    .sort_values('coef', ascending=False).reset_index(drop=True)\n",
    "coef_ridge.plot(kind='bar', x='feature', y='coef',\n",
    "                   title='Coefficients in ridge classifier model', legend=False, \n",
    "                   figsize=(15,5))"
   ]
  },
  {
   "cell_type": "markdown",
   "metadata": {
    "id": "f0Kq2f2XtLu7"
   },
   "source": [
    "### 4.3 Neural Classifier"
   ]
  },
  {
   "cell_type": "markdown",
   "metadata": {
    "id": "fVB3lCrPtLu7"
   },
   "source": [
    "#### a) Training"
   ]
  },
  {
   "cell_type": "code",
   "execution_count": 96,
   "metadata": {
    "id": "tmcGbkIDtLu7"
   },
   "outputs": [],
   "source": [
    "params_nn = {'hidden_layer_sizes': [10, 20, 30, 50],\n",
    "             'alpha': [0.01, 0.1, 1]\n",
    "            }\n",
    "clf_neural = GridSearchCV(MLPClassifier(random_state=1012, max_iter=1000, \n",
    "                                        learning_rate_init=0.001),\n",
    "                      params_nn, cv=5, n_jobs=-1, scoring=MCC_scorer)"
   ]
  },
  {
   "cell_type": "code",
   "execution_count": 97,
   "metadata": {
    "colab": {
     "base_uri": "https://localhost:8080/"
    },
    "id": "1krXvv5LtLu8",
    "outputId": "1ce68bd7-1e11-4876-f10a-272073428f6a"
   },
   "outputs": [
    {
     "data": {
      "text/plain": [
       "GridSearchCV(cv=5, estimator=MLPClassifier(max_iter=1000, random_state=1012),\n",
       "             n_jobs=-1,\n",
       "             param_grid={'alpha': [0.01, 0.1, 1],\n",
       "                         'hidden_layer_sizes': [10, 20, 30, 50]},\n",
       "             scoring=make_scorer(matthews_corrcoef))"
      ]
     },
     "execution_count": 97,
     "metadata": {},
     "output_type": "execute_result"
    }
   ],
   "source": [
    "clf_neural.fit(X_train_scaled_sm, y_train_scaled_sm)"
   ]
  },
  {
   "cell_type": "code",
   "execution_count": 98,
   "metadata": {
    "colab": {
     "base_uri": "https://localhost:8080/"
    },
    "id": "gZcZY23StLu8",
    "outputId": "979c33f3-a62a-475b-ecf1-e013e577444a"
   },
   "outputs": [
    {
     "data": {
      "text/plain": [
       "{'alpha': 0.01, 'hidden_layer_sizes': 50}"
      ]
     },
     "execution_count": 98,
     "metadata": {},
     "output_type": "execute_result"
    }
   ],
   "source": [
    "clf_neural.best_params_"
   ]
  },
  {
   "cell_type": "code",
   "execution_count": 99,
   "metadata": {
    "colab": {
     "base_uri": "https://localhost:8080/"
    },
    "id": "Af-huMbKtLu8",
    "outputId": "3db95c18-7723-43cb-ad57-f599bba1a53f"
   },
   "outputs": [
    {
     "name": "stdout",
     "output_type": "stream",
     "text": [
      "5-Fold cross validation score: 0.8532\n"
     ]
    }
   ],
   "source": [
    "# Best cross validation score\n",
    "print(f'5-Fold cross validation score: {clf_neural.best_score_:.4f}')"
   ]
  },
  {
   "cell_type": "code",
   "execution_count": 99,
   "metadata": {
    "id": "hLWcUEZdCGZy"
   },
   "outputs": [],
   "source": []
  },
  {
   "cell_type": "markdown",
   "metadata": {
    "id": "7ZrEXdX2tLu8"
   },
   "source": [
    "#### b) Performance on test set"
   ]
  },
  {
   "cell_type": "code",
   "execution_count": 100,
   "metadata": {
    "id": "U8b9cM1xtLu8"
   },
   "outputs": [],
   "source": [
    "pred_nn = clf_neural.predict(X_test_scaled)"
   ]
  },
  {
   "cell_type": "code",
   "execution_count": 101,
   "metadata": {
    "colab": {
     "base_uri": "https://localhost:8080/"
    },
    "id": "WdkmQ9zttLu9",
    "outputId": "bccee925-24d0-4c63-ca8f-46ef657a47a7"
   },
   "outputs": [
    {
     "name": "stdout",
     "output_type": "stream",
     "text": [
      "              precision    recall  f1-score   support\n",
      "\n",
      "           0       0.93      0.92      0.92       801\n",
      "           1       0.43      0.47      0.45       104\n",
      "\n",
      "    accuracy                           0.87       905\n",
      "   macro avg       0.68      0.69      0.69       905\n",
      "weighted avg       0.87      0.87      0.87       905\n",
      "\n"
     ]
    }
   ],
   "source": [
    "print(classification_report(y_test, pred_nn))"
   ]
  },
  {
   "cell_type": "code",
   "execution_count": 102,
   "metadata": {
    "colab": {
     "base_uri": "https://localhost:8080/"
    },
    "id": "-e9dFDIStLu9",
    "outputId": "0269e3e2-eaa8-46e4-c67d-08884de75cb0"
   },
   "outputs": [
    {
     "name": "stdout",
     "output_type": "stream",
     "text": [
      "MCC of Neural Classifier: 0.3723\n"
     ]
    }
   ],
   "source": [
    "mcc_nn = matthews_corrcoef(y_test, pred_nn)\n",
    "print(f'MCC of Neural Classifier: {mcc_nn:.4f}')"
   ]
  },
  {
   "cell_type": "markdown",
   "metadata": {
    "id": "ZUXR9A9AtLu9"
   },
   "source": [
    "### 4.4 Random Forest"
   ]
  },
  {
   "cell_type": "markdown",
   "metadata": {
    "id": "hcY6nnVwtLu9"
   },
   "source": [
    "#### a) Training"
   ]
  },
  {
   "cell_type": "code",
   "execution_count": 103,
   "metadata": {
    "id": "xfC1KUaVtLu9"
   },
   "outputs": [],
   "source": [
    "params_rf = {'n_estimators': [200, 300, 500], \n",
    "             'criterion': ['gini', 'entropy'], \n",
    "             'max_depth': [3, 4, 5], \n",
    "             'max_samples': [0.8, None]}\n",
    "clf_rf = GridSearchCV(RandomForestClassifier(random_state=1012, class_weight='balanced'),\n",
    "                      params_rf, cv=5, n_jobs=-1, scoring=MCC_scorer)"
   ]
  },
  {
   "cell_type": "code",
   "execution_count": 104,
   "metadata": {
    "colab": {
     "base_uri": "https://localhost:8080/"
    },
    "id": "COHEGEdVtLu9",
    "outputId": "09417970-44f8-473c-dc39-abd4e1b45d72"
   },
   "outputs": [
    {
     "data": {
      "text/plain": [
       "GridSearchCV(cv=5,\n",
       "             estimator=RandomForestClassifier(class_weight='balanced',\n",
       "                                              random_state=1012),\n",
       "             n_jobs=-1,\n",
       "             param_grid={'criterion': ['gini', 'entropy'],\n",
       "                         'max_depth': [3, 4, 5], 'max_samples': [0.8, None],\n",
       "                         'n_estimators': [200, 300, 500]},\n",
       "             scoring=make_scorer(matthews_corrcoef))"
      ]
     },
     "execution_count": 104,
     "metadata": {},
     "output_type": "execute_result"
    }
   ],
   "source": [
    "clf_rf.fit(X_train, y_train)"
   ]
  },
  {
   "cell_type": "code",
   "execution_count": 105,
   "metadata": {
    "colab": {
     "base_uri": "https://localhost:8080/"
    },
    "id": "t28pSWWMtLu-",
    "outputId": "37cbd613-af79-42ac-8e1d-2f23b5af19ec"
   },
   "outputs": [
    {
     "data": {
      "text/plain": [
       "{'criterion': 'gini', 'max_depth': 5, 'max_samples': 0.8, 'n_estimators': 500}"
      ]
     },
     "execution_count": 105,
     "metadata": {},
     "output_type": "execute_result"
    }
   ],
   "source": [
    "clf_rf.best_params_"
   ]
  },
  {
   "cell_type": "code",
   "execution_count": 106,
   "metadata": {
    "colab": {
     "base_uri": "https://localhost:8080/"
    },
    "id": "hEG5EY-OtLu-",
    "outputId": "818b1ce5-fe4d-4f9b-ce72-eb2f875f4c0a"
   },
   "outputs": [
    {
     "name": "stdout",
     "output_type": "stream",
     "text": [
      "5-Fold cross validation score: 0.4580\n"
     ]
    }
   ],
   "source": [
    "# Best cross validation score\n",
    "print(f'5-Fold cross validation score: {clf_rf.best_score_:.4f}')"
   ]
  },
  {
   "cell_type": "markdown",
   "metadata": {
    "id": "2L3AH9M-tLu-"
   },
   "source": [
    "#### b) Performance on test set"
   ]
  },
  {
   "cell_type": "code",
   "execution_count": 107,
   "metadata": {
    "id": "XOLv6stUtLu-"
   },
   "outputs": [],
   "source": [
    "pred_rf = clf_rf.predict(X_test)"
   ]
  },
  {
   "cell_type": "code",
   "execution_count": 108,
   "metadata": {
    "colab": {
     "base_uri": "https://localhost:8080/"
    },
    "id": "dLPyjj76tLu-",
    "outputId": "cf825a5a-ee99-4629-eb4d-0e84df266a7b",
    "scrolled": true
   },
   "outputs": [
    {
     "name": "stdout",
     "output_type": "stream",
     "text": [
      "              precision    recall  f1-score   support\n",
      "\n",
      "           0       0.96      0.84      0.90       801\n",
      "           1       0.39      0.76      0.51       104\n",
      "\n",
      "    accuracy                           0.83       905\n",
      "   macro avg       0.68      0.80      0.71       905\n",
      "weighted avg       0.90      0.83      0.86       905\n",
      "\n"
     ]
    }
   ],
   "source": [
    "print(classification_report(y_test, pred_rf))"
   ]
  },
  {
   "cell_type": "code",
   "execution_count": 109,
   "metadata": {
    "colab": {
     "base_uri": "https://localhost:8080/"
    },
    "id": "7Y5WuRQbtLu-",
    "outputId": "7b339f43-409f-419e-cc2e-814348d77163"
   },
   "outputs": [
    {
     "name": "stdout",
     "output_type": "stream",
     "text": [
      "MCC of Random Forest: 0.4607\n"
     ]
    }
   ],
   "source": [
    "mcc_rf = matthews_corrcoef(y_test, pred_rf)\n",
    "print(f'MCC of Random Forest: {mcc_rf:.4f}')"
   ]
  },
  {
   "cell_type": "markdown",
   "metadata": {
    "id": "sjRxyT5MtLu_"
   },
   "source": [
    "### 4.5 Grandient Boosting"
   ]
  },
  {
   "cell_type": "markdown",
   "metadata": {
    "id": "1TRO_2zPtLu_"
   },
   "source": [
    "#### a) Training"
   ]
  },
  {
   "cell_type": "code",
   "execution_count": 110,
   "metadata": {
    "id": "ULeOlNdstLu_"
   },
   "outputs": [],
   "source": [
    "params_gb = {'subsample': [0.8, 1.0],\n",
    "             'max_depth': [3, 4]}\n",
    "clf_gb = GridSearchCV(GradientBoostingClassifier(n_estimators=300, learning_rate=0.1,\n",
    "                                                 random_state=1012),\n",
    "                      params_gb, cv=5, n_jobs=-1, scoring=MCC_scorer)"
   ]
  },
  {
   "cell_type": "code",
   "execution_count": 111,
   "metadata": {
    "colab": {
     "base_uri": "https://localhost:8080/"
    },
    "id": "L9d13992tLu_",
    "outputId": "e0433d4c-cff5-4480-85e9-87d89ecffd17"
   },
   "outputs": [
    {
     "data": {
      "text/plain": [
       "GridSearchCV(cv=5,\n",
       "             estimator=GradientBoostingClassifier(n_estimators=300,\n",
       "                                                  random_state=1012),\n",
       "             n_jobs=-1,\n",
       "             param_grid={'max_depth': [3, 4], 'subsample': [0.8, 1.0]},\n",
       "             scoring=make_scorer(matthews_corrcoef))"
      ]
     },
     "execution_count": 111,
     "metadata": {},
     "output_type": "execute_result"
    }
   ],
   "source": [
    "clf_gb.fit(X_train_sm, y_train_sm)"
   ]
  },
  {
   "cell_type": "code",
   "execution_count": 112,
   "metadata": {
    "colab": {
     "base_uri": "https://localhost:8080/"
    },
    "id": "YWa6Z4hJtLu_",
    "outputId": "96637f88-3fa1-4b38-d383-b427d4af048f"
   },
   "outputs": [
    {
     "data": {
      "text/plain": [
       "{'max_depth': 4, 'subsample': 0.8}"
      ]
     },
     "execution_count": 112,
     "metadata": {},
     "output_type": "execute_result"
    }
   ],
   "source": [
    "clf_gb.best_params_"
   ]
  },
  {
   "cell_type": "code",
   "execution_count": 113,
   "metadata": {
    "colab": {
     "base_uri": "https://localhost:8080/"
    },
    "id": "ZvL5GpRNtLu_",
    "outputId": "a0cf3065-4562-4230-8620-75380e9fa458"
   },
   "outputs": [
    {
     "name": "stdout",
     "output_type": "stream",
     "text": [
      "5-Fold cross validation score: 0.8491\n"
     ]
    }
   ],
   "source": [
    "# Best cross validation score\n",
    "print(f'5-Fold cross validation score: {clf_gb.best_score_:.4f}')"
   ]
  },
  {
   "cell_type": "markdown",
   "metadata": {
    "id": "y2BShH90tLu_"
   },
   "source": [
    "#### b) Performance on test set"
   ]
  },
  {
   "cell_type": "code",
   "execution_count": 114,
   "metadata": {
    "id": "YaQEa68gtLvA"
   },
   "outputs": [],
   "source": [
    "pred_gb = clf_gb.predict(X_test)"
   ]
  },
  {
   "cell_type": "code",
   "execution_count": 115,
   "metadata": {
    "colab": {
     "base_uri": "https://localhost:8080/"
    },
    "id": "UB2raWsGtLvA",
    "outputId": "b6232684-61e7-4ff7-cb68-77a2e4511bd1"
   },
   "outputs": [
    {
     "name": "stdout",
     "output_type": "stream",
     "text": [
      "              precision    recall  f1-score   support\n",
      "\n",
      "           0       0.93      0.96      0.95       801\n",
      "           1       0.60      0.47      0.53       104\n",
      "\n",
      "    accuracy                           0.90       905\n",
      "   macro avg       0.77      0.72      0.74       905\n",
      "weighted avg       0.90      0.90      0.90       905\n",
      "\n"
     ]
    }
   ],
   "source": [
    "print(classification_report(y_test, pred_gb))"
   ]
  },
  {
   "cell_type": "code",
   "execution_count": 116,
   "metadata": {
    "colab": {
     "base_uri": "https://localhost:8080/"
    },
    "id": "gguYJktjtLvA",
    "outputId": "feaae2e8-ed9f-4683-ddbb-a8284fd5094f"
   },
   "outputs": [
    {
     "name": "stdout",
     "output_type": "stream",
     "text": [
      "MCC of Gradient Boosting: 0.4817\n"
     ]
    }
   ],
   "source": [
    "mcc_gb = matthews_corrcoef(y_test, pred_gb)\n",
    "print(f'MCC of Gradient Boosting: {mcc_gb:.4f}')"
   ]
  },
  {
   "cell_type": "markdown",
   "metadata": {
    "id": "lrdDcEgJtLvA"
   },
   "source": [
    "#### c) Feature Importance in model\n",
    "- **Last contact duration** plays an important part in predicting clients' subscription\n",
    "- More efforts and focus should be delivered to those clients with a higher contact duration last time"
   ]
  },
  {
   "cell_type": "code",
   "execution_count": 117,
   "metadata": {
    "colab": {
     "base_uri": "https://localhost:8080/",
     "height": 384
    },
    "id": "IdxhiX0JtLvA",
    "outputId": "dea8d666-a509-4b07-a73e-7fc30912c2fa"
   },
   "outputs": [
    {
     "data": {
      "text/plain": [
       "<matplotlib.axes._subplots.AxesSubplot at 0x7fbf4b6452e0>"
      ]
     },
     "execution_count": 117,
     "metadata": {},
     "output_type": "execute_result"
    },
    {
     "data": {
      "image/png": "[encoded data removed]",
      "text/plain": [
       "<Figure size 432x288 with 1 Axes>"
      ]
     },
     "metadata": {},
     "output_type": "display_data"
    }
   ],
   "source": [
    "# Get the feature importance from grandient boosting classifier\n",
    "feature_importances = pd.DataFrame({'feature': col_features, 'importance': clf_gb.best_estimator_.feature_importances_})\\\n",
    "    .sort_values('importance', ascending=False).reset_index(drop=True)\n",
    "feature_importances.iloc[0:10, :].plot(kind='bar', x='feature', y='importance', rot=45,\n",
    "                                       title='Feature Importances in Gradient Boosting Model', legend=False)"
   ]
  },
  {
   "cell_type": "markdown",
   "metadata": {
    "id": "aEt6cfPgtLvA"
   },
   "source": [
    "# Summary\n",
    "- Using ROC and MCC value to compare the performance of above algorithms\n",
    "- Among all the algorithms, Gradient Boosting is the best algorithm with highest ROC AUC and MCC value."
   ]
  },
  {
   "cell_type": "markdown",
   "metadata": {
    "id": "Rh0yMzUvtLvB"
   },
   "source": [
    "### 5.1 ROC Curve"
   ]
  },
  {
   "cell_type": "code",
   "execution_count": 118,
   "metadata": {
    "colab": {
     "base_uri": "https://localhost:8080/",
     "height": 588
    },
    "id": "UDoiB7r8tLvB",
    "outputId": "5d02a6d0-e3d6-4425-a83f-d9537bbd2b51"
   },
   "outputs": [
    {
     "name": "stderr",
     "output_type": "stream",
     "text": [
      "/usr/local/lib/python3.8/dist-packages/sklearn/utils/deprecation.py:87: FutureWarning: Function plot_roc_curve is deprecated; Function :func:`plot_roc_curve` is deprecated in 1.0 and will be removed in 1.2. Use one of the class methods: :meth:`sklearn.metric.RocCurveDisplay.from_predictions` or :meth:`sklearn.metric.RocCurveDisplay.from_estimator`.\n",
      "  warnings.warn(msg, category=FutureWarning)\n",
      "/usr/local/lib/python3.8/dist-packages/sklearn/utils/deprecation.py:87: FutureWarning: Function plot_roc_curve is deprecated; Function :func:`plot_roc_curve` is deprecated in 1.0 and will be removed in 1.2. Use one of the class methods: :meth:`sklearn.metric.RocCurveDisplay.from_predictions` or :meth:`sklearn.metric.RocCurveDisplay.from_estimator`.\n",
      "  warnings.warn(msg, category=FutureWarning)\n",
      "/usr/local/lib/python3.8/dist-packages/sklearn/utils/deprecation.py:87: FutureWarning: Function plot_roc_curve is deprecated; Function :func:`plot_roc_curve` is deprecated in 1.0 and will be removed in 1.2. Use one of the class methods: :meth:`sklearn.metric.RocCurveDisplay.from_predictions` or :meth:`sklearn.metric.RocCurveDisplay.from_estimator`.\n",
      "  warnings.warn(msg, category=FutureWarning)\n",
      "/usr/local/lib/python3.8/dist-packages/sklearn/utils/deprecation.py:87: FutureWarning: Function plot_roc_curve is deprecated; Function :func:`plot_roc_curve` is deprecated in 1.0 and will be removed in 1.2. Use one of the class methods: :meth:`sklearn.metric.RocCurveDisplay.from_predictions` or :meth:`sklearn.metric.RocCurveDisplay.from_estimator`.\n",
      "  warnings.warn(msg, category=FutureWarning)\n",
      "/usr/local/lib/python3.8/dist-packages/sklearn/utils/deprecation.py:87: FutureWarning: Function plot_roc_curve is deprecated; Function :func:`plot_roc_curve` is deprecated in 1.0 and will be removed in 1.2. Use one of the class methods: :meth:`sklearn.metric.RocCurveDisplay.from_predictions` or :meth:`sklearn.metric.RocCurveDisplay.from_estimator`.\n",
      "  warnings.warn(msg, category=FutureWarning)\n"
     ]
    },
    {
     "data": {
      "image/png": "[encoded data removed]",
      "text/plain": [
       "<Figure size 432x432 with 1 Axes>"
      ]
     },
     "metadata": {},
     "output_type": "display_data"
    }
   ],
   "source": [
    "f, ax = plt.subplots(figsize=(6, 6))\n",
    "plot_roc_curve(clf_logistic.best_estimator_, X_test_scaled, y_test, pos_label=1, ax=ax)\n",
    "plot_roc_curve(clf_ridge.best_estimator_, X_test_scaled, y_test, pos_label=1, ax=ax)\n",
    "plot_roc_curve(clf_neural.best_estimator_, X_test_scaled, y_test, pos_label=1, ax=ax)\n",
    "plot_roc_curve(clf_rf.best_estimator_, X_test, y_test, pos_label=1, ax=ax)\n",
    "plot_roc_curve(clf_gb.best_estimator_, X_test, y_test, pos_label=1, ax=ax)\n",
    "plt.legend(loc='best')\n",
    "plt.show()"
   ]
  },
  {
   "cell_type": "markdown",
   "metadata": {
    "id": "sy_xa2TptLvB"
   },
   "source": [
    "### 5.2 MCC"
   ]
  },
  {
   "cell_type": "code",
   "execution_count": 119,
   "metadata": {
    "colab": {
     "base_uri": "https://localhost:8080/",
     "height": 206
    },
    "id": "Ev48wJGptLvB",
    "outputId": "55fc3ed7-0e77-4470-d9d1-aeb3e1881187"
   },
   "outputs": [
    {
     "data": {
      "text/html": [
       "\n",
       "  <div id=\"df-76fb3ac9-9e86-4f13-810d-408e2a78ff76\">\n",
       "    <div class=\"colab-df-container\">\n",
       "      <div>\n",
       "<style scoped>\n",
       "    .dataframe tbody tr th:only-of-type {\n",
       "        vertical-align: middle;\n",
       "    }\n",
       "\n",
       "    .dataframe tbody tr th {\n",
       "        vertical-align: top;\n",
       "    }\n",
       "\n",
       "    .dataframe thead th {\n",
       "        text-align: right;\n",
       "    }\n",
       "</style>\n",
       "<table border=\"1\" class=\"dataframe\">\n",
       "  <thead>\n",
       "    <tr style=\"text-align: right;\">\n",
       "      <th></th>\n",
       "      <th>Classifier</th>\n",
       "      <th>MCC Score</th>\n",
       "    </tr>\n",
       "  </thead>\n",
       "  <tbody>\n",
       "    <tr>\n",
       "      <th>0</th>\n",
       "      <td>Gradient Boosting</td>\n",
       "      <td>0.481736</td>\n",
       "    </tr>\n",
       "    <tr>\n",
       "      <th>1</th>\n",
       "      <td>Random Forest</td>\n",
       "      <td>0.460659</td>\n",
       "    </tr>\n",
       "    <tr>\n",
       "      <th>2</th>\n",
       "      <td>Logistic Regression</td>\n",
       "      <td>0.437260</td>\n",
       "    </tr>\n",
       "    <tr>\n",
       "      <th>3</th>\n",
       "      <td>Ridge Classifier</td>\n",
       "      <td>0.426769</td>\n",
       "    </tr>\n",
       "    <tr>\n",
       "      <th>4</th>\n",
       "      <td>Neural Classifier</td>\n",
       "      <td>0.372262</td>\n",
       "    </tr>\n",
       "  </tbody>\n",
       "</table>\n",
       "</div>\n",
       "      <button class=\"colab-df-convert\" onclick=\"convertToInteractive('df-76fb3ac9-9e86-4f13-810d-408e2a78ff76')\"\n",
       "              title=\"Convert this dataframe to an interactive table.\"\n",
       "              style=\"display:none;\">\n",
       "        \n",
       "  <svg xmlns=\"http://www.w3.org/2000/svg\" height=\"24px\"viewBox=\"0 0 24 24\"\n",
       "       width=\"24px\">\n",
       "    <path d=\"M0 0h24v24H0V0z\" fill=\"none\"/>\n",
       "    <path d=\"M18.56 5.44l.94 2.06.94-2.06 2.06-.94-2.06-.94-.94-2.06-.94 2.06-2.06.94zm-11 1L8.5 8.5l.94-2.06 2.06-.94-2.06-.94L8.5 2.5l-.94 2.06-2.06.94zm10 10l.94 2.06.94-2.06 2.06-.94-2.06-.94-.94-2.06-.94 2.06-2.06.94z\"/><path d=\"M17.41 7.96l-1.37-1.37c-.4-.4-.92-.59-1.43-.59-.52 0-1.04.2-1.43.59L10.3 9.45l-7.72 7.72c-.78.78-.78 2.05 0 2.83L4 21.41c.39.39.9.59 1.41.59.51 0 1.02-.2 1.41-.59l7.78-7.78 2.81-2.81c.8-.78.8-2.07 0-2.86zM5.41 20L4 18.59l7.72-7.72 1.47 1.35L5.41 20z\"/>\n",
       "  </svg>\n",
       "      </button>\n",
       "      \n",
       "  <style>\n",
       "    .colab-df-container {\n",
       "      display:flex;\n",
       "      flex-wrap:wrap;\n",
       "      gap: 12px;\n",
       "    }\n",
       "\n",
       "    .colab-df-convert {\n",
       "      background-color: #E8F0FE;\n",
       "      border: none;\n",
       "      border-radius: 50%;\n",
       "      cursor: pointer;\n",
       "      display: none;\n",
       "      fill: #1967D2;\n",
       "      height: 32px;\n",
       "      padding: 0 0 0 0;\n",
       "      width: 32px;\n",
       "    }\n",
       "\n",
       "    .colab-df-convert:hover {\n",
       "      background-color: #E2EBFA;\n",
       "      box-shadow: 0px 1px 2px rgba(60, 64, 67, 0.3), 0px 1px 3px 1px rgba(60, 64, 67, 0.15);\n",
       "      fill: #174EA6;\n",
       "    }\n",
       "\n",
       "    [theme=dark] .colab-df-convert {\n",
       "      background-color: #3B4455;\n",
       "      fill: #D2E3FC;\n",
       "    }\n",
       "\n",
       "    [theme=dark] .colab-df-convert:hover {\n",
       "      background-color: #434B5C;\n",
       "      box-shadow: 0px 1px 3px 1px rgba(0, 0, 0, 0.15);\n",
       "      filter: drop-shadow(0px 1px 2px rgba(0, 0, 0, 0.3));\n",
       "      fill: #FFFFFF;\n",
       "    }\n",
       "  </style>\n",
       "\n",
       "      <script>\n",
       "        const buttonEl =\n",
       "          document.querySelector('#df-76fb3ac9-9e86-4f13-810d-408e2a78ff76 button.colab-df-convert');\n",
       "        buttonEl.style.display =\n",
       "          google.colab.kernel.accessAllowed ? 'block' : 'none';\n",
       "\n",
       "        async function convertToInteractive(key) {\n",
       "          const element = document.querySelector('#df-76fb3ac9-9e86-4f13-810d-408e2a78ff76');\n",
       "          const dataTable =\n",
       "            await google.colab.kernel.invokeFunction('convertToInteractive',\n",
       "                                                     [key], {});\n",
       "          if (!dataTable) return;\n",
       "\n",
       "          const docLinkHtml = 'Like what you see? Visit the ' +\n",
       "            '<a target=\"_blank\" href=https://colab.research.google.com/notebooks/data_table.ipynb>data table notebook</a>'\n",
       "            + ' to learn more about interactive tables.';\n",
       "          element.innerHTML = '';\n",
       "          dataTable['output_type'] = 'display_data';\n",
       "          await google.colab.output.renderOutput(dataTable, element);\n",
       "          const docLink = document.createElement('div');\n",
       "          docLink.innerHTML = docLinkHtml;\n",
       "          element.appendChild(docLink);\n",
       "        }\n",
       "      </script>\n",
       "    </div>\n",
       "  </div>\n",
       "  "
      ],
      "text/plain": [
       "            Classifier  MCC Score\n",
       "0    Gradient Boosting   0.481736\n",
       "1        Random Forest   0.460659\n",
       "2  Logistic Regression   0.437260\n",
       "3     Ridge Classifier   0.426769\n",
       "4    Neural Classifier   0.372262"
      ]
     },
     "execution_count": 119,
     "metadata": {},
     "output_type": "execute_result"
    }
   ],
   "source": [
    "classifier_names = ['Logistic Regression', 'Ridge Classifier', 'Neural Classifier', \n",
    "                    'Random Forest', 'Gradient Boosting']\n",
    "MCC_scores = [mcc_logistic, mcc_ridge, mcc_nn, mcc_rf, mcc_gb]\n",
    "pd.DataFrame({'Classifier': classifier_names, 'MCC Score': MCC_scores})\\\n",
    "            .sort_values('MCC Score', ascending=False).reset_index(drop=True)"
   ]
  },
  {
   "cell_type": "markdown",
   "metadata": {
    "id": "vcqAoj4bFYhM"
   },
   "source": []
  },
  {
   "cell_type": "code",
   "execution_count": 119,
   "metadata": {
    "id": "Kjr2BWxYtLvB"
   },
   "outputs": [],
   "source": []
  }
 ],
 "metadata": {
  "colab": {
   "provenance": []
  },
  "kernelspec": {
   "display_name": "Python 3 (ipykernel)",
   "language": "python",
   "name": "python3"
  },
  "language_info": {
   "codemirror_mode": {
    "name": "ipython",
    "version": 3
   },
   "file_extension": ".py",
   "mimetype": "text/x-python",
   "name": "python",
   "nbconvert_exporter": "python",
   "pygments_lexer": "ipython3",
   "version": "3.8.5"
  },
  "varInspector": {
   "cols": {
    "lenName": 16,
    "lenType": 16,
    "lenVar": 40
   },
   "kernels_config": {
    "python": {
     "delete_cmd_postfix": "",
     "delete_cmd_prefix": "del ",
     "library": "var_list.py",
     "varRefreshCmd": "print(var_dic_list())"
    },
    "r": {
     "delete_cmd_postfix": ") ",
     "delete_cmd_prefix": "rm(",
     "library": "var_list.r",
     "varRefreshCmd": "cat(var_dic_list()) "
    }
   },
   "types_to_exclude": [
    "module",
    "function",
    "builtin_function_or_method",
    "instance",
    "_Feature"
   ],
   "window_display": false
  }
 },
 "nbformat": 4,
 "nbformat_minor": 1
}
